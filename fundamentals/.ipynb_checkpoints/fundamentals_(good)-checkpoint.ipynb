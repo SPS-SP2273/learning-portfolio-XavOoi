{
 "cells": [
  {
   "cell_type": "markdown",
   "id": "123456",
   "metadata": {},
   "source": [
    "<div style=\"text-align:left;font-size:2em\"><span style=\"font-weight:bolder;font-size:1.25em\">SP2273 | Learning Portfolio</span><br><br><span style=\"font-weight:bold;color:darkred\">Fundamentals (Good)</span></div>"
   ]
  },
  {
   "cell_type": "markdown",
   "id": "719913f3",
   "metadata": {},
   "source": [
    "# What to expect in this chapter"
   ]
  },
  {
   "cell_type": "markdown",
   "id": "453ff763",
   "metadata": {},
   "source": [
    "# 1 There is more to if"
   ]
  },
  {
   "cell_type": "code",
   "execution_count": 1,
   "id": "13c647a8",
   "metadata": {},
   "outputs": [
    {
     "name": "stdout",
     "output_type": "stream",
     "text": [
      "Hello Batman!\n"
     ]
    }
   ],
   "source": [
    "name = 'Batman'\n",
    "\n",
    "if name == 'Batman':\n",
    "    print('Hello Batman!')\n",
    "elif name == 'Robin':\n",
    "    print('Hello Sidekick!')\n",
    "else:\n",
    "    print('Hello World!')"
   ]
  },
  {
   "cell_type": "markdown",
   "id": "7e41f7ab",
   "metadata": {},
   "source": [
    "name is defined as batman\n",
    "\n",
    "therefore, if name is defined as batman = say hello batman\n",
    "\n",
    "otherwise if name is defined as robin = say hello sidekick\n",
    "\n",
    "otherwise if none of those are true = say hello world"
   ]
  },
  {
   "cell_type": "markdown",
   "id": "f77b8be7",
   "metadata": {},
   "source": [
    "# 2 Asking questions"
   ]
  },
  {
   "cell_type": "code",
   "execution_count": 2,
   "id": "4d67def7",
   "metadata": {},
   "outputs": [],
   "source": [
    "fruits = ['apple', 'banana', 'pineapple', 'jackfruit']\n",
    "vegetables = ['celery', 'potato', 'broccoli', 'kale']"
   ]
  },
  {
   "cell_type": "code",
   "execution_count": 4,
   "id": "27df40fe",
   "metadata": {},
   "outputs": [
    {
     "data": {
      "text/plain": [
       "True"
      ]
     },
     "execution_count": 4,
     "metadata": {},
     "output_type": "execute_result"
    }
   ],
   "source": [
    "'apple' in fruits #asking python if apple is in the list of fruits listed"
   ]
  },
  {
   "cell_type": "code",
   "execution_count": 5,
   "id": "38ce87ef",
   "metadata": {},
   "outputs": [
    {
     "data": {
      "text/plain": [
       "False"
      ]
     },
     "execution_count": 5,
     "metadata": {},
     "output_type": "execute_result"
    }
   ],
   "source": [
    "'peach' in fruits #asking python if peach is in the list of fruits listed"
   ]
  },
  {
   "cell_type": "code",
   "execution_count": 6,
   "id": "c49cfcb1",
   "metadata": {},
   "outputs": [
    {
     "data": {
      "text/plain": [
       "True"
      ]
     },
     "execution_count": 6,
     "metadata": {},
     "output_type": "execute_result"
    }
   ],
   "source": [
    "'peach' not in fruits #asking python if peach is not in the list of fruits listed"
   ]
  },
  {
   "cell_type": "code",
   "execution_count": 8,
   "id": "1de3bd96",
   "metadata": {},
   "outputs": [
    {
     "data": {
      "text/plain": [
       "True"
      ]
     },
     "execution_count": 8,
     "metadata": {},
     "output_type": "execute_result"
    }
   ],
   "source": [
    "('apple' in fruits) and ('celery' in vegetables)\n",
    "\n",
    "#asking python if apple is in list of fruits listed \n",
    "#asking python if celery is in l;st of vegetables listed\n",
    "#both have to be true for the answer to be 'TRUE'"
   ]
  },
  {
   "cell_type": "markdown",
   "id": "323264d3",
   "metadata": {},
   "source": [
    "# 3 Remember"
   ]
  },
  {
   "cell_type": "code",
   "execution_count": 9,
   "id": "6fe94ec3",
   "metadata": {},
   "outputs": [],
   "source": [
    "#'not' 'in' 'and' 'or' are python keywords that can be used to ask questions"
   ]
  },
  {
   "cell_type": "code",
   "execution_count": 11,
   "id": "177c7dd6",
   "metadata": {},
   "outputs": [
    {
     "data": {
      "text/plain": [
       "False"
      ]
     },
     "execution_count": 11,
     "metadata": {},
     "output_type": "execute_result"
    }
   ],
   "source": [
    "# python can compare similar things e.g., numbers or english\n",
    "'apple' > 'oranges' \n",
    "#in the code each letter has a number; since a is before o, the answer is false"
   ]
  },
  {
   "cell_type": "markdown",
   "id": "0e9ae88d",
   "metadata": {},
   "source": [
    "## 3.1 Asking Math questions"
   ]
  },
  {
   "cell_type": "markdown",
   "id": "7be8a377",
   "metadata": {},
   "source": [
    "Acceptable notations\n",
    "\n",
    "x > 5 and x < 15\n",
    "\n",
    "(x > 5) and (x < 15)\n",
    "\n",
    "5 < x < 15"
   ]
  },
  {
   "cell_type": "markdown",
   "id": "31fae886",
   "metadata": {},
   "source": [
    "# 4 Python stores information in different formats or types"
   ]
  },
  {
   "cell_type": "code",
   "execution_count": 14,
   "id": "bf31feb7",
   "metadata": {},
   "outputs": [
    {
     "name": "stdout",
     "output_type": "stream",
     "text": [
      "1 <class 'int'>\n"
     ]
    }
   ],
   "source": [
    "#storing as integer (int)\n",
    "\n",
    "x = int(1.234)\n",
    "print(x, type (x))"
   ]
  },
  {
   "cell_type": "code",
   "execution_count": 15,
   "id": "731826bd",
   "metadata": {},
   "outputs": [
    {
     "name": "stdout",
     "output_type": "stream",
     "text": [
      "1.234 <class 'str'>\n"
     ]
    }
   ],
   "source": [
    "#storing as word (str)\n",
    "\n",
    "x = str(1.234)\n",
    "print(x, type(x))"
   ]
  },
  {
   "cell_type": "code",
   "execution_count": 17,
   "id": "633ce846",
   "metadata": {},
   "outputs": [
    {
     "name": "stdout",
     "output_type": "stream",
     "text": [
      "1.234 <class 'float'>\n"
     ]
    }
   ],
   "source": [
    "#storing as decimal number (float)\n",
    "\n",
    "x = float(1.234)\n",
    "print(x, type(x))"
   ]
  },
  {
   "cell_type": "code",
   "execution_count": 18,
   "id": "755510bb",
   "metadata": {},
   "outputs": [
    {
     "name": "stdout",
     "output_type": "stream",
     "text": [
      "(1.234+0j) <class 'complex'>\n"
     ]
    }
   ],
   "source": [
    "#storing as complex number (complex)\n",
    "\n",
    "x = complex(1.234)\n",
    "print(x, type(x))"
   ]
  },
  {
   "cell_type": "code",
   "execution_count": 19,
   "id": "7375b418",
   "metadata": {},
   "outputs": [
    {
     "name": "stdout",
     "output_type": "stream",
     "text": [
      "1.234 <class 'str'>\n"
     ]
    }
   ],
   "source": [
    "x = '1.234' #x is a string\n",
    "print(x, type(x))"
   ]
  },
  {
   "cell_type": "code",
   "execution_count": 20,
   "id": "ef40c62f",
   "metadata": {},
   "outputs": [
    {
     "name": "stdout",
     "output_type": "stream",
     "text": [
      "1.234 <class 'float'>\n"
     ]
    }
   ],
   "source": [
    "x = float(x) #x is now a decimal number; since it has been redefined with 'float'\n",
    "print(x, type(x))"
   ]
  },
  {
   "cell_type": "markdown",
   "id": "3602a52c",
   "metadata": {},
   "source": [
    "# 5 Never compare floats directly"
   ]
  },
  {
   "cell_type": "markdown",
   "id": "be4f6b6d",
   "metadata": {},
   "source": [
    "## 5.1 The Problem"
   ]
  },
  {
   "cell_type": "code",
   "execution_count": 21,
   "id": "31de3b5a",
   "metadata": {},
   "outputs": [
    {
     "data": {
      "text/plain": [
       "False"
      ]
     },
     "execution_count": 21,
     "metadata": {},
     "output_type": "execute_result"
    }
   ],
   "source": [
    "a = 0.1\n",
    "a3 = 0.3\n",
    "a*3 ==a3"
   ]
  },
  {
   "cell_type": "code",
   "execution_count": 24,
   "id": "b3edda1d",
   "metadata": {},
   "outputs": [
    {
     "data": {
      "text/plain": [
       "'0.29999999999999999'"
      ]
     },
     "execution_count": 24,
     "metadata": {},
     "output_type": "execute_result"
    }
   ],
   "source": [
    "f'{0.3:.17f}'"
   ]
  },
  {
   "cell_type": "markdown",
   "id": "88b0fa0c",
   "metadata": {},
   "source": [
    "## 5.2 A solution"
   ]
  },
  {
   "cell_type": "code",
   "execution_count": 25,
   "id": "106a62da",
   "metadata": {},
   "outputs": [],
   "source": [
    "import math"
   ]
  },
  {
   "cell_type": "code",
   "execution_count": 27,
   "id": "fec0e7b3",
   "metadata": {},
   "outputs": [],
   "source": [
    "import numpy"
   ]
  },
  {
   "cell_type": "code",
   "execution_count": 28,
   "id": "9fb2f99a",
   "metadata": {},
   "outputs": [
    {
     "data": {
      "text/plain": [
       "True"
      ]
     },
     "execution_count": 28,
     "metadata": {},
     "output_type": "execute_result"
    }
   ],
   "source": [
    "eps = 1E-10\n",
    "abs(a*3-a3)<eps"
   ]
  },
  {
   "cell_type": "code",
   "execution_count": 30,
   "id": "332a1ad4",
   "metadata": {},
   "outputs": [
    {
     "data": {
      "text/plain": [
       "True"
      ]
     },
     "execution_count": 30,
     "metadata": {},
     "output_type": "execute_result"
    }
   ],
   "source": [
    "numpy.isclose(a*3,a3)"
   ]
  },
  {
   "cell_type": "markdown",
   "id": "0c4f0c05",
   "metadata": {},
   "source": [
    "# 6 Combining English and variables"
   ]
  },
  {
   "cell_type": "code",
   "execution_count": 31,
   "id": "30cac9e6",
   "metadata": {},
   "outputs": [
    {
     "name": "stdout",
     "output_type": "stream",
     "text": [
      "Hello Batman!\n"
     ]
    }
   ],
   "source": [
    "#example 1\n",
    "name = \"Batman\"\n",
    "print(f\"Hello {name}!\")"
   ]
  },
  {
   "cell_type": "code",
   "execution_count": 32,
   "id": "4f6e7a01",
   "metadata": {},
   "outputs": [
    {
     "name": "stdout",
     "output_type": "stream",
     "text": [
      "Hello BATMAN!\n"
     ]
    }
   ],
   "source": [
    "#example 2\n",
    "name = \"Batman\"\n",
    "print(f\"Hello {name.upper()}!\")"
   ]
  },
  {
   "cell_type": "code",
   "execution_count": 33,
   "id": "7792069c",
   "metadata": {},
   "outputs": [
    {
     "name": "stdout",
     "output_type": "stream",
     "text": [
      "The value of 10 squared is 100!\n"
     ]
    }
   ],
   "source": [
    "#example 3\n",
    "x = 10\n",
    "print(f\"The value of {x} squared is {x**2}!\")"
   ]
  },
  {
   "cell_type": "markdown",
   "id": "2587b073",
   "metadata": {},
   "source": [
    "use of f-strings \"f{}\" allows adding of variables into a string"
   ]
  },
  {
   "cell_type": "code",
   "execution_count": 35,
   "id": "0a4e94bb",
   "metadata": {},
   "outputs": [
    {
     "name": "stdout",
     "output_type": "stream",
     "text": [
      "Bruce Wayne is Batman.\n"
     ]
    }
   ],
   "source": [
    "#example 1\n",
    "text = 'Bruce Wayne is Batman.'\n",
    "print(f'{text}')"
   ]
  },
  {
   "cell_type": "code",
   "execution_count": 36,
   "id": "2566717e",
   "metadata": {},
   "outputs": [
    {
     "name": "stdout",
     "output_type": "stream",
     "text": [
      "        Bruce Wayne is Batman.\n"
     ]
    }
   ],
   "source": [
    "#example 2\n",
    "print(f'{text:>30}') \n",
    "\n",
    "#use of > is to align the text to the right by 30 characters"
   ]
  },
  {
   "cell_type": "code",
   "execution_count": 37,
   "id": "329240c2",
   "metadata": {},
   "outputs": [
    {
     "name": "stdout",
     "output_type": "stream",
     "text": [
      "Bruce Wayne is Batman.        \n"
     ]
    }
   ],
   "source": [
    "#example 2\n",
    "print(f'{text:<30}') \n",
    "\n",
    "#use of < is to align the text to the left by 30 characters"
   ]
  },
  {
   "cell_type": "code",
   "execution_count": 38,
   "id": "888e9d32",
   "metadata": {},
   "outputs": [
    {
     "name": "stdout",
     "output_type": "stream",
     "text": [
      "    Bruce Wayne is Batman.    \n"
     ]
    }
   ],
   "source": [
    "#example 2\n",
    "print(f'{text:^30}') \n",
    "\n",
    "#use of ^ is to align the text to the centre by 30 characters -> 15 each side"
   ]
  },
  {
   "cell_type": "code",
   "execution_count": 41,
   "id": "cb19e264",
   "metadata": {},
   "outputs": [
    {
     "name": "stdout",
     "output_type": "stream",
     "text": [
      "The cube of pi to 6 decimal places is 31.006277\n"
     ]
    }
   ],
   "source": [
    "print(f'The cube of pi to 6 decimal places is {numpy.pi**3:.6f}')\n",
    "\n",
    "#use of .6f is to tell the output to give an answer to 6 decimal place"
   ]
  },
  {
   "cell_type": "code",
   "execution_count": 43,
   "id": "11952d21",
   "metadata": {},
   "outputs": [
    {
     "name": "stdout",
     "output_type": "stream",
     "text": [
      "The cube of pi to 6 decimal places is 3.100628e+01\n"
     ]
    }
   ],
   "source": [
    "print(f'The cube of pi to 6 decimal places is {numpy.pi**3:.6e}')\n",
    "\n",
    "#use of .6e is to the output to give an answer in scientific notation to 6dp"
   ]
  },
  {
   "cell_type": "markdown",
   "id": "29c9389c",
   "metadata": {},
   "source": [
    "## 6.1 Structure of f-strings"
   ]
  },
  {
   "cell_type": "markdown",
   "id": "06fbf665",
   "metadata": {},
   "source": [
    "structure of f-strings: f{X:>0Y.ZW}\n",
    "\n",
    "|**Letter**|**Action**|**Possible Options**|\n",
    "|:---|:---:|:----|\n",
    "|x|variable to format|can be a number or a string|\n",
    "|>|Alignment|- < (left)|\n",
    "| | |- > (right)|\n",
    "| | | - ^ (centre)|\n",
    "|0|Use 0's to pad the spaces|You can use other characters like a space.|\n",
    "|Y|Total number of characters| |\n",
    "|Z|Number of decimal places| |\n",
    "|W|Specifies the type of variable| - f (float)|\n",
    "| | |- d (integer)|\n",
    "| | |- s (string)|\n",
    "| | |- g (asks python to figure out)|"
   ]
  },
  {
   "cell_type": "markdown",
   "id": "674265a8",
   "metadata": {},
   "source": [
    "# 7 Escape sequences"
   ]
  },
  {
   "cell_type": "code",
   "execution_count": 49,
   "id": "c77cd431",
   "metadata": {},
   "outputs": [
    {
     "name": "stdout",
     "output_type": "stream",
     "text": [
      "Line 1\n",
      "\tLine 2\n",
      "\t\tLine 3\n"
     ]
    }
   ],
   "source": [
    "print('Line 1\\n\\tLine 2\\n\\t\\tLine 3')"
   ]
  },
  {
   "cell_type": "code",
   "execution_count": 54,
   "id": "c7956cc6",
   "metadata": {},
   "outputs": [
    {
     "name": "stdout",
     "output_type": "stream",
     "text": [
      "Line 1\n",
      "HELLO\tHELLOOOOO\n"
     ]
    }
   ],
   "source": [
    "#testing new features!\n",
    "print('Line 1\\nHELLO\\tHELLOOOOO')"
   ]
  },
  {
   "cell_type": "markdown",
   "id": "1b89da27",
   "metadata": {},
   "source": [
    "|**Escape sequence**|**Meaning**|\n",
    "|:--:|:--:|\n",
    "|\\\\|Single quote|\n",
    "|\\\\\\\\|Backslash|\n",
    "|\\n|Newline|\n",
    "|\\t|Horizontal tab|"
   ]
  },
  {
   "cell_type": "code",
   "execution_count": 56,
   "id": "14a4e1b8",
   "metadata": {},
   "outputs": [
    {
     "name": "stdout",
     "output_type": "stream",
     "text": [
      "You're twenty years old\n"
     ]
    }
   ],
   "source": [
    "print(\"You're twenty years old\") #have to use \"\" since You're has '"
   ]
  },
  {
   "cell_type": "code",
   "execution_count": 60,
   "id": "7d4dbc06",
   "metadata": {},
   "outputs": [
    {
     "name": "stdout",
     "output_type": "stream",
     "text": [
      "Your're twenty years old\n"
     ]
    }
   ],
   "source": [
    "print('Your\\'re twenty years old')"
   ]
  },
  {
   "cell_type": "code",
   "execution_count": 62,
   "id": "41f01218",
   "metadata": {},
   "outputs": [
    {
     "name": "stdout",
     "output_type": "stream",
     "text": [
      "A\\B\\C\n"
     ]
    }
   ],
   "source": [
    "#To print \\ there is a need to escape it, aka need to type \\\\\n",
    "\n",
    "print('A\\\\B\\\\C')"
   ]
  },
  {
   "cell_type": "code",
   "execution_count": 63,
   "id": "c9915c19",
   "metadata": {},
   "outputs": [
    {
     "name": "stdout",
     "output_type": "stream",
     "text": [
      "A\n",
      "B\n",
      "C\n"
     ]
    }
   ],
   "source": [
    "#To create new lines for each variable\n",
    "\n",
    "print('A\\nB\\nC')"
   ]
  },
  {
   "cell_type": "code",
   "execution_count": 64,
   "id": "30a6fc19",
   "metadata": {},
   "outputs": [
    {
     "name": "stdout",
     "output_type": "stream",
     "text": [
      "A\tB\tC\n"
     ]
    }
   ],
   "source": [
    "#To create tabs between each variable\n",
    "\n",
    "print('A\\tB\\tC')"
   ]
  },
  {
   "cell_type": "markdown",
   "id": "92a56838",
   "metadata": {},
   "source": [
    "# 8 Computers read = from Right to Left!"
   ]
  },
  {
   "cell_type": "code",
   "execution_count": 68,
   "id": "92f09d0c",
   "metadata": {},
   "outputs": [
    {
     "name": "stdout",
     "output_type": "stream",
     "text": [
      "42\n"
     ]
    }
   ],
   "source": [
    "x = 40\n",
    "y = x + 2\n",
    "print(y)"
   ]
  },
  {
   "cell_type": "code",
   "execution_count": 67,
   "id": "2a57c786",
   "metadata": {},
   "outputs": [
    {
     "name": "stdout",
     "output_type": "stream",
     "text": [
      "42\n"
     ]
    }
   ],
   "source": [
    "#works in programming but not in maths -> mathematically wrong\n",
    "y = 40\n",
    "y = y + 2\n",
    "print(y)"
   ]
  },
  {
   "cell_type": "markdown",
   "id": "d22e8735",
   "metadata": {},
   "source": [
    "# 9 Shorter and Cleaner Code"
   ]
  },
  {
   "cell_type": "code",
   "execution_count": 69,
   "id": "aed6908d",
   "metadata": {},
   "outputs": [
    {
     "data": {
      "text/plain": [
       "42"
      ]
     },
     "execution_count": 69,
     "metadata": {},
     "output_type": "execute_result"
    }
   ],
   "source": [
    "y = 40\n",
    "y = y + 2\n",
    "y"
   ]
  },
  {
   "cell_type": "code",
   "execution_count": 70,
   "id": "94ef6d24",
   "metadata": {},
   "outputs": [
    {
     "data": {
      "text/plain": [
       "42"
      ]
     },
     "execution_count": 70,
     "metadata": {},
     "output_type": "execute_result"
    }
   ],
   "source": [
    "y = 40\n",
    "y += 2    # Same as y = y + 2\n",
    "y"
   ]
  },
  {
   "cell_type": "markdown",
   "id": "c33b53d3",
   "metadata": {},
   "source": [
    "| |**Long form**|**Shorthand**|\n",
    "|:--|:--:|:--:|\n",
    "|Addition|y=y+2|y+=2|\n",
    "|Subtraction|y=y-2|y-=2|\n",
    "|Multiplication|y=y*2|y*=2|\n",
    "|Division|y=y/2|y/=2|"
   ]
  },
  {
   "cell_type": "markdown",
   "id": "7ec15bcd",
   "metadata": {},
   "source": [
    "# 10 Python can be a prima-donna."
   ]
  },
  {
   "cell_type": "markdown",
   "id": "fbd9d57a",
   "metadata": {},
   "source": [
    "# 11 Best Practices for Scientific Computing"
   ]
  },
  {
   "cell_type": "markdown",
   "id": "f6e4184a",
   "metadata": {},
   "source": [
    "# 12 Looking for help"
   ]
  },
  {
   "cell_type": "markdown",
   "id": "4e63de07",
   "metadata": {},
   "source": [
    "## References"
   ]
  },
  {
   "cell_type": "markdown",
   "id": "c56a6c1a",
   "metadata": {},
   "source": [
    "## Footnotes"
   ]
  }
 ],
 "metadata": {
  "kernelspec": {
   "display_name": "Python 3 (ipykernel)",
   "language": "python",
   "name": "python3"
  },
  "language_info": {
   "codemirror_mode": {
    "name": "ipython",
    "version": 3
   },
   "file_extension": ".py",
   "mimetype": "text/x-python",
   "name": "python",
   "nbconvert_exporter": "python",
   "pygments_lexer": "ipython3",
   "version": "3.11.5"
  },
  "toc": {
   "base_numbering": 1,
   "nav_menu": {},
   "number_sections": true,
   "sideBar": true,
   "skip_h1_title": false,
   "title_cell": "Table of Contents",
   "title_sidebar": "Contents",
   "toc_cell": false,
   "toc_position": {},
   "toc_section_display": true,
   "toc_window_display": false
  },
  "vscode": {
   "interpreter": {
    "hash": "31f2aee4e71d21fbe5cf8b01ff0e069b9275f58929596ceb00d14d90e3e16cd6"
   }
  }
 },
 "nbformat": 4,
 "nbformat_minor": 5
}
