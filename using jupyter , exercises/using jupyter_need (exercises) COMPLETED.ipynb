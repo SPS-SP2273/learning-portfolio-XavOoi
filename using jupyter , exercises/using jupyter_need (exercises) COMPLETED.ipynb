{
 "cells": [
  {
   "cell_type": "markdown",
   "id": "3dec21ce-ba6f-4825-9d73-5cd6574030d2",
   "metadata": {},
   "source": [
    "Exercise 1"
   ]
  },
  {
   "cell_type": "markdown",
   "id": "e4d1f9af-11b8-4f6f-95a7-f74b94bfc3a4",
   "metadata": {},
   "source": [
    "# Quadratic Equations"
   ]
  },
  {
   "cell_type": "markdown",
   "id": "5736850c-0c5d-44ac-a5fe-836dacb6a6f5",
   "metadata": {},
   "source": [
    "## Introduction"
   ]
  },
  {
   "cell_type": "markdown",
   "id": "bd19487a-4ff0-471c-8230-d97558e6dfd5",
   "metadata": {},
   "source": [
    "![](https://upload.wikimedia.org/wikipedia/commons/f/f8/Polynomialdeg2.svg) "
   ]
  },
  {
   "cell_type": "markdown",
   "id": "aa5eaf4f-71da-4c8d-ad56-a3a4a0dfc4ce",
   "metadata": {},
   "source": [
    "(*Image from the [Wikipedia page on Quadratic equations](https://en.wikipedia.org/wiki/Quadratic_equation)*)"
   ]
  },
  {
   "cell_type": "markdown",
   "id": "0ebd1606-1384-4467-9273-e2bef6bbbe45",
   "metadata": {},
   "source": [
    "The general form of a quadratic equation is:"
   ]
  },
  {
   "cell_type": "markdown",
   "id": "3abd2fc1-8754-4367-93cd-2d631c043983",
   "metadata": {},
   "source": [
    "$ax^2 + bx + c =0$"
   ]
  },
  {
   "cell_type": "markdown",
   "id": "a01c0a05-bb7c-45cb-8ecb-3cefa2ebb637",
   "metadata": {},
   "source": [
    "## Solutions"
   ]
  },
  {
   "cell_type": "markdown",
   "id": "3d214e20-a164-4c47-b964-03dae5d8c82b",
   "metadata": {},
   "source": [
    "Provided $a \\ne 0$, we can use an elementary algebraic method called [completeing the square](https://en.wikipedia.org/wiki/Completing_the_square) to show that a quadratic equation has the following solution:"
   ]
  },
  {
   "cell_type": "markdown",
   "id": "8f16fa11-adc0-4a5a-b9cf-533f5d8eafe9",
   "metadata": {},
   "source": [
    "$$\n",
    "x = \\frac{{-b \\pm \\sqrt{{b^2-4ac}}}}{{2a}}\n",
    "$$"
   ]
  },
  {
   "cell_type": "markdown",
   "id": "47476694-0002-4497-8d19-1031815105c5",
   "metadata": {},
   "source": [
    "## Discriminant"
   ]
  },
  {
   "cell_type": "markdown",
   "id": "161db2bd-facc-4b77-8ba8-6a0840add596",
   "metadata": {},
   "source": [
    "The quantity $\\triangle = b^2-4ac$ is called the **discriminant** of the equation and decides the nature of its solutions. The table below shows the various possibilities."
   ]
  },
  {
   "cell_type": "markdown",
   "id": "74bb5e99-c519-4c80-9046-225915704688",
   "metadata": {},
   "source": [
    "| **Discriminant**  |  **Roots**   |\n",
    "| :---|:---|\n",
    "| $\\triangle = b^2-4ac = 0$| A single solution of $-b/(2a)$ |\n",
    "| $\\triangle = b^2-4ac > 0$ |  Two distinct solutions |\n",
    "| $\\triangle = b^2-4ac < 0$  |  No real solutions; both are complex. ||\n"
   ]
  },
  {
   "cell_type": "markdown",
   "id": "84c3d842-64dc-4886-972e-d86727df340a",
   "metadata": {},
   "source": [
    "Exercise 2"
   ]
  },
  {
   "cell_type": "markdown",
   "id": "c5c89681-7441-42b6-9877-795adb2f0cc7",
   "metadata": {},
   "source": [
    "1. What is a Git **repository**?"
   ]
  },
  {
   "cell_type": "markdown",
   "id": "a045b6ba-a869-41e8-aec2-263214c4f733",
   "metadata": {},
   "source": [
    "It is like a folder that stores my codes. It is good for collaborative work! :)"
   ]
  },
  {
   "cell_type": "markdown",
   "id": "e99911f2-c351-48d6-85ac-58d7008b473c",
   "metadata": {},
   "source": [
    "2. Git keeps track of _________ in the files in our repository."
   ]
  },
  {
   "cell_type": "markdown",
   "id": "a0c42b5b-6cbb-42ea-a2db-96277fa5dc64",
   "metadata": {},
   "source": [
    "# MY CODES"
   ]
  },
  {
   "cell_type": "markdown",
   "id": "c3fb6002-61ad-49dd-8b70-d52968c9b59a",
   "metadata": {},
   "source": [
    "3. What is a **commit**?"
   ]
  },
  {
   "cell_type": "markdown",
   "id": "5bb731b2-1621-4104-b292-5858b44a4c95",
   "metadata": {},
   "source": [
    "When you confirm your work and \"save\" them locally to sync with the cloud."
   ]
  },
  {
   "cell_type": "markdown",
   "id": "dc2a48c2-9461-4623-8393-a420ea8a46a6",
   "metadata": {},
   "source": [
    "4. What is a **push**?"
   ]
  },
  {
   "cell_type": "markdown",
   "id": "03823b9e-fcb5-40e5-8c5f-b3b1daac937f",
   "metadata": {},
   "source": [
    "When you confirm your work after you have saved them locally, you push them up to the cloud to sync."
   ]
  },
  {
   "cell_type": "markdown",
   "id": "2ea520d5-6e56-4b7e-a0be-1191ad9dc51d",
   "metadata": {},
   "source": [
    "5. What is a **pull**?"
   ]
  },
  {
   "cell_type": "markdown",
   "id": "f69450df-da5b-4eeb-93df-1ad62e74e5dd",
   "metadata": {},
   "source": [
    "To sync your stuff locally with the stuff on the cloud, i.e. the stuff in the cloud has new changes and your local stuff is not updated."
   ]
  },
  {
   "cell_type": "markdown",
   "id": "b278b080-5f12-4488-8a12-b7befe9e54af",
   "metadata": {},
   "source": [
    "6. What is the difference between **GitHub** and **GitHub Desktop**?"
   ]
  },
  {
   "cell_type": "markdown",
   "id": "085b67ba-2260-4b62-a9f8-85d05d64780c",
   "metadata": {},
   "source": [
    "GitHub is the browser version and GitHub Desktop is like an app on the computer that allows you to work locally."
   ]
  },
  {
   "cell_type": "code",
   "execution_count": null,
   "id": "5a837b01-6135-432e-967d-eb80a05dc274",
   "metadata": {},
   "outputs": [],
   "source": []
  }
 ],
 "metadata": {
  "kernelspec": {
   "display_name": "Python 3 (ipykernel)",
   "language": "python",
   "name": "python3"
  },
  "language_info": {
   "codemirror_mode": {
    "name": "ipython",
    "version": 3
   },
   "file_extension": ".py",
   "mimetype": "text/x-python",
   "name": "python",
   "nbconvert_exporter": "python",
   "pygments_lexer": "ipython3",
   "version": "3.11.5"
  }
 },
 "nbformat": 4,
 "nbformat_minor": 5
}
