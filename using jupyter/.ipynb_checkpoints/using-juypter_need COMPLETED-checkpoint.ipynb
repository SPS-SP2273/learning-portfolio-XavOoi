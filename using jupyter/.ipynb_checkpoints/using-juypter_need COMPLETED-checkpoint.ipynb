{
 "cells": [
  {
   "cell_type": "code",
   "execution_count": 4,
   "id": "2bd9caa3-17ea-478b-aa42-f4c37e0e7c63",
   "metadata": {},
   "outputs": [
    {
     "name": "stdout",
     "output_type": "stream",
     "text": [
      "Hello World!\n"
     ]
    }
   ],
   "source": [
    "print('Hello World!')"
   ]
  },
  {
   "cell_type": "markdown",
   "id": "13132942",
   "metadata": {},
   "source": [
    "z"
   ]
  },
  {
   "cell_type": "code",
   "execution_count": 5,
   "id": "88da040c-93de-4459-8db8-d63f00f3f58f",
   "metadata": {},
   "outputs": [
    {
     "name": "stdout",
     "output_type": "stream",
     "text": [
      "6\n"
     ]
    }
   ],
   "source": [
    "a = 4\n",
    "b = 2\n",
    "c = a + b\n",
    "print(c)"
   ]
  },
  {
   "cell_type": "markdown",
   "id": "2bd8b0eb-8c9e-43bf-a42e-725317a8121f",
   "metadata": {},
   "source": [
    "The ships hung un the sky in much the same way that bricks don't."
   ]
  },
  {
   "cell_type": "markdown",
   "id": "eda24b55-2479-4b1e-8128-4bdbf41f874e",
   "metadata": {},
   "source": [
    "The ships *hung in the sky* in much the same way that **bricks don't**. <sup>1</sup><sub>QUOTE</sub>"
   ]
  },
  {
   "cell_type": "code",
   "execution_count": 1,
   "id": "0d22e035-b834-44cb-8300-50fdb98bd7b7",
   "metadata": {},
   "outputs": [
    {
     "ename": "SyntaxError",
     "evalue": "unmatched ')' (3174347737.py, line 1)",
     "output_type": "error",
     "traceback": [
      "\u001b[1;36m  Cell \u001b[1;32mIn[1], line 1\u001b[1;36m\u001b[0m\n\u001b[1;33m    'print(\"Hello World')'\u001b[0m\n\u001b[1;37m                        ^\u001b[0m\n\u001b[1;31mSyntaxError\u001b[0m\u001b[1;31m:\u001b[0m unmatched ')'\n"
     ]
    }
   ],
   "source": [
    "'print(\"Hello World')'"
   ]
  },
  {
   "cell_type": "code",
   "execution_count": 2,
   "id": "4101a65c-a1f9-4a62-8003-3d54ce6db584",
   "metadata": {},
   "outputs": [
    {
     "ename": "SyntaxError",
     "evalue": "invalid syntax (49546431.py, line 1)",
     "output_type": "error",
     "traceback": [
      "\u001b[1;36m  Cell \u001b[1;32mIn[2], line 1\u001b[1;36m\u001b[0m\n\u001b[1;33m    'print('Hello World')'\u001b[0m\n\u001b[1;37m            ^\u001b[0m\n\u001b[1;31mSyntaxError\u001b[0m\u001b[1;31m:\u001b[0m invalid syntax\n"
     ]
    }
   ],
   "source": [
    "'print('Hello World')'"
   ]
  },
  {
   "cell_type": "code",
   "execution_count": 3,
   "id": "73a32943-420d-4995-a4b5-d1c2421c5855",
   "metadata": {},
   "outputs": [
    {
     "name": "stdout",
     "output_type": "stream",
     "text": [
      "Hello World\n"
     ]
    }
   ],
   "source": [
    "print('Hello World')"
   ]
  },
  {
   "cell_type": "markdown",
   "id": "c6135050-6e31-4659-aaa2-726808ebb443",
   "metadata": {},
   "source": [
    "[SP2273 Website](https:/sps.nus.edu.sg/sp2273)"
   ]
  },
  {
   "cell_type": "markdown",
   "id": "7f2459cc-b9bc-4b0e-8b88-ce44f7cdc847",
   "metadata": {},
   "source": [
    "![](https://nus.edu.sg/images/default-source/base/logo.png)"
   ]
  },
  {
   "cell_type": "markdown",
   "id": "a83c56da-764a-44fa-84d4-a1814f15ffbc",
   "metadata": {},
   "source": [
    "| A    |  B   |    C |\n",
    "| :--- | :--: | ---: |\n",
    "| a1   |  b1  |   c1 |\n",
    "| a2   |  b2  |   c2 |\n",
    "| a3   |  b3  |   c3 |"
   ]
  },
  {
   "cell_type": "markdown",
   "id": "40d8c467-2586-4039-9b4b-980d73a425b1",
   "metadata": {},
   "source": [
    "1. master yoda\n",
    "2. luke skywalker\n",
    "3. anakin skywalker"
   ]
  },
  {
   "cell_type": "markdown",
   "id": "df8a453f-bb49-4d3f-8d36-f048b9bb45a1",
   "metadata": {},
   "source": [
    "master yoda\n",
    "    was a jedi\n",
    "    was a bit green\n",
    "luke skywalker\n",
    "    was a jedi"
   ]
  },
  {
   "cell_type": "markdown",
   "id": "dcda13aa-cfa6-4711-b9e3-9cd6264e16c4",
   "metadata": {},
   "source": [
    "1. master yoda\n",
    "    - was a jedi\n",
    "    - was a bit green\n",
    "2. luke skywalker\n",
    "    - was a jedi"
   ]
  },
  {
   "cell_type": "markdown",
   "id": "388062a2-b9f9-48fc-91b2-66ba3791823d",
   "metadata": {},
   "source": [
    "$\\sqrt{b^2-4ac}$"
   ]
  }
 ],
 "metadata": {
  "kernelspec": {
   "display_name": "Python 3 (ipykernel)",
   "language": "python",
   "name": "python3"
  },
  "language_info": {
   "codemirror_mode": {
    "name": "ipython",
    "version": 3
   },
   "file_extension": ".py",
   "mimetype": "text/x-python",
   "name": "python",
   "nbconvert_exporter": "python",
   "pygments_lexer": "ipython3",
   "version": "3.11.5"
  }
 },
 "nbformat": 4,
 "nbformat_minor": 5
}
