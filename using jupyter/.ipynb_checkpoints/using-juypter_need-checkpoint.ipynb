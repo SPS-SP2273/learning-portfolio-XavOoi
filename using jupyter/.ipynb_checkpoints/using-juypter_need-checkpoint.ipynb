{
 "cells": [
  {
   "cell_type": "code",
   "execution_count": 4,
   "id": "2bd9caa3-17ea-478b-aa42-f4c37e0e7c63",
   "metadata": {},
   "outputs": [
    {
     "name": "stdout",
     "output_type": "stream",
     "text": [
      "Hello World!\n"
     ]
    }
   ],
   "source": [
    "print('Hello World!')"
   ]
  },
  {
   "cell_type": "code",
   "execution_count": null,
   "id": "c5e81a8d-9bd1-4f6a-9d81-7f332676f0fa",
   "metadata": {},
   "outputs": [],
   "source": []
  },
  {
   "cell_type": "code",
   "execution_count": 5,
   "id": "88da040c-93de-4459-8db8-d63f00f3f58f",
   "metadata": {},
   "outputs": [
    {
     "name": "stdout",
     "output_type": "stream",
     "text": [
      "6\n"
     ]
    }
   ],
   "source": [
    "a = 4\n",
    "b = 2\n",
    "c = a + b\n",
    "print(c)"
   ]
  },
  {
   "cell_type": "markdown",
   "id": "2bd8b0eb-8c9e-43bf-a42e-725317a8121f",
   "metadata": {},
   "source": [
    "The ships hung un the sky in much the same way that bricks don't."
   ]
  },
  {
   "cell_type": "markdown",
   "id": "eda24b55-2479-4b1e-8128-4bdbf41f874e",
   "metadata": {},
   "source": [
    "The ships *hung in the sky* in much the same way that **bricks don't**. <sup>1</sup><sub>QUOTE</sub>"
   ]
  }
 ],
 "metadata": {
  "kernelspec": {
   "display_name": "Python 3 (ipykernel)",
   "language": "python",
   "name": "python3"
  },
  "language_info": {
   "codemirror_mode": {
    "name": "ipython",
    "version": 3
   },
   "file_extension": ".py",
   "mimetype": "text/x-python",
   "name": "python",
   "nbconvert_exporter": "python",
   "pygments_lexer": "ipython3",
   "version": "3.11.5"
  }
 },
 "nbformat": 4,
 "nbformat_minor": 5
}
