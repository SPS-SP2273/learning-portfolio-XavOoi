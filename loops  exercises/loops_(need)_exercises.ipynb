{
 "cells": [
  {
   "attachments": {},
   "cell_type": "markdown",
   "id": "123456",
   "metadata": {},
   "source": [
    "<div style=\"text-align:left;font-size:2em\"><span style=\"font-weight:bolder;font-size:1.25em\">SP2273 | Learning Portfolio</span><br><br><span style=\"font-weight:bold;color:darkred\">Loops (Need) Exercises</span></div>"
   ]
  },
  {
   "cell_type": "markdown",
   "id": "ace8c2e1-5c13-4748-95ac-514d6bda8a59",
   "metadata": {},
   "source": [
    "**Exercise 1 (Celcius to Farenheit)**"
   ]
  },
  {
   "cell_type": "code",
   "execution_count": 12,
   "id": "259b6275-9318-4f2f-9477-6b5fbeeea9a9",
   "metadata": {},
   "outputs": [],
   "source": [
    "temperatures_celsius = [\n",
    "    0, 5, 10, 15, 20, 25,\n",
    "    30, 35, 40, 45, 50\n",
    "]"
   ]
  },
  {
   "cell_type": "code",
   "execution_count": 16,
   "id": "d29e2cb7-66cb-4205-afd3-a6eac5502d61",
   "metadata": {},
   "outputs": [
    {
     "name": "stdout",
     "output_type": "stream",
     "text": [
      "0 celsius is 32.0 farenheit\n",
      "5 celsius is 41.0 farenheit\n",
      "10 celsius is 50.0 farenheit\n",
      "15 celsius is 59.0 farenheit\n",
      "20 celsius is 68.0 farenheit\n",
      "25 celsius is 77.0 farenheit\n",
      "30 celsius is 86.0 farenheit\n",
      "35 celsius is 95.0 farenheit\n",
      "40 celsius is 104.0 farenheit\n",
      "45 celsius is 113.0 farenheit\n",
      "50 celsius is 122.0 farenheit\n"
     ]
    }
   ],
   "source": [
    "for celsius in temperatures_celsius:\n",
    "    farenheit = (celsius * 9/5 + 32)\n",
    "    print(f'{celsius} celsius is {farenheit} farenheit')"
   ]
  },
  {
   "cell_type": "markdown",
   "id": "38af8e7f-a29b-46fd-afd9-8c026241a703",
   "metadata": {},
   "source": [
    "**Exercise 2 (Multiplication table)**"
   ]
  },
  {
   "cell_type": "code",
   "execution_count": 18,
   "id": "b3501b7c-f12d-4802-b338-64877285d566",
   "metadata": {},
   "outputs": [
    {
     "name": "stdout",
     "output_type": "stream",
     "text": [
      "A1\tA2\tA3\t\n",
      "\n",
      "B1\tB2\tB3\t\n",
      "\n",
      "C1\tC2\tC3\t\n",
      "\n"
     ]
    }
   ],
   "source": [
    "for letter in ['A', 'B', 'C']:\n",
    "    for number in [1, 2, 3]:\n",
    "        print(f'{letter}{number}', end='\\t')\n",
    "    print('\\n')"
   ]
  },
  {
   "cell_type": "code",
   "execution_count": 2,
   "id": "2ac32c8c-31d0-4b5d-9063-035cc2b62946",
   "metadata": {},
   "outputs": [
    {
     "name": "stdout",
     "output_type": "stream",
     "text": [
      "1*1\t1*2\t1*3\t1*4\t1*5\t\n",
      "\n",
      "2*1\t2*2\t2*3\t2*4\t2*5\t\n",
      "\n",
      "3*1\t3*2\t3*3\t3*4\t3*5\t\n",
      "\n",
      "4*1\t4*2\t4*3\t4*4\t4*5\t\n",
      "\n",
      "5*1\t5*2\t5*3\t5*4\t5*5\t\n",
      "\n"
     ]
    }
   ],
   "source": [
    "for base in ['1', '2', '3', '4', '5']:\n",
    "    base = int(base)                          # convert the element from string to integers\n",
    "    for multiples in [1, 2, 3, 4, 5]:\n",
    "        multiples = int(multiples)\n",
    "        print(f'{base}*{multiples}', end='\\t')\n",
    "    print('\\n')"
   ]
  },
  {
   "cell_type": "code",
   "execution_count": 37,
   "id": "758e817e-98f1-43dc-9f4f-5ca60f14157a",
   "metadata": {},
   "outputs": [
    {
     "name": "stdout",
     "output_type": "stream",
     "text": [
      "1\t2\t3\t4\t5\t\n",
      "\n",
      "2\t4\t6\t8\t10\t\n",
      "\n",
      "3\t6\t9\t12\t15\t\n",
      "\n",
      "4\t8\t12\t16\t20\t\n",
      "\n",
      "5\t10\t15\t20\t25\t\n",
      "\n"
     ]
    }
   ],
   "source": [
    "for base in ['1', '2', '3', '4', '5']:\n",
    "    base = int(base)\n",
    "    for multiples in [1, 2, 3, 4, 5]:\n",
    "        multiples = int(multiples)\n",
    "        solution = (base * multiples)\n",
    "        print(f'{solution}', end='\\t')\n",
    "    print('\\n')"
   ]
  },
  {
   "cell_type": "code",
   "execution_count": 4,
   "id": "f5d9443c-8a96-45e3-9354-d11cb4196401",
   "metadata": {},
   "outputs": [
    {
     "name": "stdout",
     "output_type": "stream",
     "text": [
      "1:1\t1:2\t1:3\t1:4\t1:5\t\n",
      "\n",
      "2:2\t2:4\t2:6\t2:8\t2:10\t\n",
      "\n",
      "3:3\t3:6\t3:9\t3:12\t3:15\t\n",
      "\n",
      "4:4\t4:8\t4:12\t4:16\t4:20\t\n",
      "\n",
      "5:5\t5:10\t5:15\t5:20\t5:25\t\n",
      "\n"
     ]
    }
   ],
   "source": [
    "for count, base in enumerate(['1', '2', '3', '4', '5'], 1):\n",
    "    base = int(base)\n",
    "    for multiples in [1, 2, 3, 4, 5]:\n",
    "        multiples = int(multiples)\n",
    "        solution = (base * multiples)\n",
    "        print(f'{count}:{solution}', end='\\t')\n",
    "    print('\\n')"
   ]
  },
  {
   "cell_type": "code",
   "execution_count": 7,
   "id": "35b26185-40fd-4dff-93ff-bd7a72d12359",
   "metadata": {},
   "outputs": [
    {
     "name": "stdout",
     "output_type": "stream",
     "text": [
      "1:\n",
      "1\t2\t3\t4\t5\t\n",
      "\n",
      "2:\n",
      "2\t4\t6\t8\t10\t\n",
      "\n",
      "3:\n",
      "3\t6\t9\t12\t15\t\n",
      "\n",
      "4:\n",
      "4\t8\t12\t16\t20\t\n",
      "\n",
      "5:\n",
      "5\t10\t15\t20\t25\t\n",
      "\n"
     ]
    }
   ],
   "source": [
    "for count, base in enumerate(['1', '2', '3', '4', '5'], 1):\n",
    "    base = int(base)\n",
    "    print(f'{count}:')\n",
    "    for multiples in [1, 2, 3, 4, 5]:\n",
    "        multiples = int(multiples)\n",
    "        solution = (base * multiples)\n",
    "        print(f'{solution}', end='\\t')\n",
    "    print('\\n')"
   ]
  },
  {
   "cell_type": "code",
   "execution_count": 9,
   "id": "eaa766ec-2fc7-45bd-be1e-ba844210444f",
   "metadata": {},
   "outputs": [
    {
     "name": "stdout",
     "output_type": "stream",
     "text": [
      "1:1\t2\t3\t4\t5\t\n",
      "\n",
      "2:2\t4\t6\t8\t10\t\n",
      "\n",
      "3:3\t6\t9\t12\t15\t\n",
      "\n",
      "4:4\t8\t12\t16\t20\t\n",
      "\n",
      "5:5\t10\t15\t20\t25\t\n",
      "\n"
     ]
    }
   ],
   "source": [
    "for count, base in enumerate(['1', '2', '3', '4', '5'], 1):\n",
    "    base = int(base)\n",
    "    print(f'{count}:', end='') # To ensure the output is on the same line\n",
    "    for multiples in [1, 2, 3, 4, 5]:\n",
    "        multiples = int(multiples)\n",
    "        solution = (base * multiples)\n",
    "        print(f'{solution}', end='\\t')\n",
    "    print('\\n')"
   ]
  },
  {
   "cell_type": "code",
   "execution_count": null,
   "id": "2015a0f3-b800-454d-b721-b2bfda973acf",
   "metadata": {},
   "outputs": [],
   "source": []
  }
 ],
 "metadata": {
  "kernelspec": {
   "display_name": "Python 3 (ipykernel)",
   "language": "python",
   "name": "python3"
  },
  "language_info": {
   "codemirror_mode": {
    "name": "ipython",
    "version": 3
   },
   "file_extension": ".py",
   "mimetype": "text/x-python",
   "name": "python",
   "nbconvert_exporter": "python",
   "pygments_lexer": "ipython3",
   "version": "3.11.5"
  },
  "toc": {
   "base_numbering": 1,
   "nav_menu": {},
   "number_sections": true,
   "sideBar": true,
   "skip_h1_title": false,
   "title_cell": "Table of Contents",
   "title_sidebar": "Contents",
   "toc_cell": false,
   "toc_position": {},
   "toc_section_display": true,
   "toc_window_display": false
  },
  "vscode": {
   "interpreter": {
    "hash": "31f2aee4e71d21fbe5cf8b01ff0e069b9275f58929596ceb00d14d90e3e16cd6"
   }
  }
 },
 "nbformat": 4,
 "nbformat_minor": 5
}
