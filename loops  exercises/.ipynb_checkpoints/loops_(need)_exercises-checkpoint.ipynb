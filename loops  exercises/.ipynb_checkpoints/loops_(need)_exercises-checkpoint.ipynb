{
 "cells": [
  {
   "attachments": {},
   "cell_type": "markdown",
   "id": "123456",
   "metadata": {},
   "source": [
    "<div style=\"text-align:left;font-size:2em\"><span style=\"font-weight:bolder;font-size:1.25em\">SP2273 | Learning Portfolio</span><br><br><span style=\"font-weight:bold;color:darkred\">Loops (Need) Exercises</span></div>"
   ]
  },
  {
   "cell_type": "markdown",
   "id": "ace8c2e1-5c13-4748-95ac-514d6bda8a59",
   "metadata": {},
   "source": [
    "**Exercise 1 (Celcius to Farenheit)**"
   ]
  },
  {
   "cell_type": "code",
   "execution_count": 12,
   "id": "259b6275-9318-4f2f-9477-6b5fbeeea9a9",
   "metadata": {},
   "outputs": [],
   "source": [
    "temperatures_celsius = [\n",
    "    0, 5, 10, 15, 20, 25,\n",
    "    30, 35, 40, 45, 50\n",
    "]"
   ]
  },
  {
   "cell_type": "code",
   "execution_count": 16,
   "id": "d29e2cb7-66cb-4205-afd3-a6eac5502d61",
   "metadata": {},
   "outputs": [
    {
     "name": "stdout",
     "output_type": "stream",
     "text": [
      "0 celsius is 32.0 farenheit\n",
      "5 celsius is 41.0 farenheit\n",
      "10 celsius is 50.0 farenheit\n",
      "15 celsius is 59.0 farenheit\n",
      "20 celsius is 68.0 farenheit\n",
      "25 celsius is 77.0 farenheit\n",
      "30 celsius is 86.0 farenheit\n",
      "35 celsius is 95.0 farenheit\n",
      "40 celsius is 104.0 farenheit\n",
      "45 celsius is 113.0 farenheit\n",
      "50 celsius is 122.0 farenheit\n"
     ]
    }
   ],
   "source": [
    "for celsius in temperatures_celsius:\n",
    "    farenheit = (celsius * 9/5 + 32)\n",
    "    print(f'{celsius} celsius is {farenheit} farenheit')"
   ]
  },
  {
   "cell_type": "markdown",
   "id": "38af8e7f-a29b-46fd-afd9-8c026241a703",
   "metadata": {},
   "source": [
    "**Exercise 2 (Multiplication table)**"
   ]
  },
  {
   "cell_type": "code",
   "execution_count": 18,
   "id": "b3501b7c-f12d-4802-b338-64877285d566",
   "metadata": {},
   "outputs": [
    {
     "name": "stdout",
     "output_type": "stream",
     "text": [
      "A1\tA2\tA3\t\n",
      "\n",
      "B1\tB2\tB3\t\n",
      "\n",
      "C1\tC2\tC3\t\n",
      "\n"
     ]
    }
   ],
   "source": [
    "for letter in ['A', 'B', 'C']:\n",
    "    for number in [1, 2, 3]:\n",
    "        print(f'{letter}{number}', end='\\t')\n",
    "    print('\\n')"
   ]
  },
  {
   "cell_type": "code",
   "execution_count": 33,
   "id": "2ac32c8c-31d0-4b5d-9063-035cc2b62946",
   "metadata": {},
   "outputs": [
    {
     "name": "stdout",
     "output_type": "stream",
     "text": [
      "1*1\t1*2\t1*3\t1*4\t1*5\t\n",
      "\n",
      "2*1\t2*2\t2*3\t2*4\t2*5\t\n",
      "\n",
      "3*1\t3*2\t3*3\t3*4\t3*5\t\n",
      "\n",
      "4*1\t4*2\t4*3\t4*4\t4*5\t\n",
      "\n",
      "5*1\t5*2\t5*3\t5*4\t5*5\t\n",
      "\n"
     ]
    }
   ],
   "source": [
    "for base in ['1', '2', '3', '4', '5']:\n",
    "    base = int(base)\n",
    "    for multiples in [1, 2, 3, 4, 5]:\n",
    "        multiples = int(multiples)\n",
    "        solution = (base * multiples)\n",
    "        print(f'{base}*{multiples}', end='\\t')\n",
    "    print('\\n')"
   ]
  },
  {
   "cell_type": "code",
   "execution_count": 37,
   "id": "758e817e-98f1-43dc-9f4f-5ca60f14157a",
   "metadata": {},
   "outputs": [
    {
     "name": "stdout",
     "output_type": "stream",
     "text": [
      "1\t2\t3\t4\t5\t\n",
      "\n",
      "2\t4\t6\t8\t10\t\n",
      "\n",
      "3\t6\t9\t12\t15\t\n",
      "\n",
      "4\t8\t12\t16\t20\t\n",
      "\n",
      "5\t10\t15\t20\t25\t\n",
      "\n"
     ]
    }
   ],
   "source": [
    "for base in ['1', '2', '3', '4', '5']:\n",
    "    base = int(base)\n",
    "    for multiples in [1, 2, 3, 4, 5]:\n",
    "        multiples = int(multiples)\n",
    "        solution = (base * multiples)\n",
    "        print(f'{solution}', end='\\t')\n",
    "    print('\\n')"
   ]
  },
  {
   "cell_type": "code",
   "execution_count": 39,
   "id": "44df17e7-c749-476b-bbb1-352b753cf4fa",
   "metadata": {},
   "outputs": [
    {
     "name": "stdout",
     "output_type": "stream",
     "text": [
      "0:5\t\n",
      "\n",
      "0:1\t1:0\t\n",
      "\n",
      "0:1\t1:5\t\n",
      "\n",
      "0:2\t1:0\t\n",
      "\n",
      "0:2\t1:5\t\n",
      "\n"
     ]
    }
   ],
   "source": [
    "for base in ['1', '2', '3', '4', '5']:\n",
    "    base = int(base)\n",
    "    for multiples in [1, 2, 3, 4, 5]:\n",
    "        multiples = int(multiples)\n",
    "        solution = (base * multiples)\n",
    "        solution = str(solution)\n",
    "    for count, solution in enumerate(solution):\n",
    "        print(f'{count}:{solution}', end='\\t')\n",
    "    print('\\n')"
   ]
  },
  {
   "cell_type": "code",
   "execution_count": 42,
   "id": "15586026-be76-4269-bf99-c10f6ed5a58e",
   "metadata": {},
   "outputs": [
    {
     "ename": "TypeError",
     "evalue": "cannot unpack non-iterable int object",
     "output_type": "error",
     "traceback": [
      "\u001b[1;31m---------------------------------------------------------------------------\u001b[0m",
      "\u001b[1;31mTypeError\u001b[0m                                 Traceback (most recent call last)",
      "Cell \u001b[1;32mIn[42], line 3\u001b[0m\n\u001b[0;32m      1\u001b[0m \u001b[38;5;28;01mfor\u001b[39;00m base \u001b[38;5;129;01min\u001b[39;00m [\u001b[38;5;124m'\u001b[39m\u001b[38;5;124m1\u001b[39m\u001b[38;5;124m'\u001b[39m, \u001b[38;5;124m'\u001b[39m\u001b[38;5;124m2\u001b[39m\u001b[38;5;124m'\u001b[39m, \u001b[38;5;124m'\u001b[39m\u001b[38;5;124m3\u001b[39m\u001b[38;5;124m'\u001b[39m, \u001b[38;5;124m'\u001b[39m\u001b[38;5;124m4\u001b[39m\u001b[38;5;124m'\u001b[39m, \u001b[38;5;124m'\u001b[39m\u001b[38;5;124m5\u001b[39m\u001b[38;5;124m'\u001b[39m]:\n\u001b[0;32m      2\u001b[0m     base \u001b[38;5;241m=\u001b[39m \u001b[38;5;28mint\u001b[39m(base)\n\u001b[1;32m----> 3\u001b[0m     \u001b[38;5;28;01mfor\u001b[39;00m count, multiples \u001b[38;5;129;01min\u001b[39;00m [\u001b[38;5;241m1\u001b[39m, \u001b[38;5;241m2\u001b[39m, \u001b[38;5;241m3\u001b[39m, \u001b[38;5;241m4\u001b[39m, \u001b[38;5;241m5\u001b[39m]:\n\u001b[0;32m      4\u001b[0m         multiples \u001b[38;5;241m=\u001b[39m \u001b[38;5;28mint\u001b[39m(multiples)\n\u001b[0;32m      5\u001b[0m         solution \u001b[38;5;241m=\u001b[39m (base \u001b[38;5;241m*\u001b[39m multiples)\n",
      "\u001b[1;31mTypeError\u001b[0m: cannot unpack non-iterable int object"
     ]
    }
   ],
   "source": [
    "for base in ['1', '2', '3', '4', '5']:\n",
    "    base = int(base)\n",
    "    for count, multiples in [1, 2, 3, 4, 5]:\n",
    "        multiples = int(multiples)\n",
    "        solution = (base * multiples)\n",
    "        print(f'{count}: {solution}', end='\\t')\n",
    "    print('\\n')"
   ]
  },
  {
   "cell_type": "code",
   "execution_count": null,
   "id": "f5d9443c-8a96-45e3-9354-d11cb4196401",
   "metadata": {},
   "outputs": [],
   "source": []
  }
 ],
 "metadata": {
  "kernelspec": {
   "display_name": "Python 3 (ipykernel)",
   "language": "python",
   "name": "python3"
  },
  "language_info": {
   "codemirror_mode": {
    "name": "ipython",
    "version": 3
   },
   "file_extension": ".py",
   "mimetype": "text/x-python",
   "name": "python",
   "nbconvert_exporter": "python",
   "pygments_lexer": "ipython3",
   "version": "3.11.5"
  },
  "toc": {
   "base_numbering": 1,
   "nav_menu": {},
   "number_sections": true,
   "sideBar": true,
   "skip_h1_title": false,
   "title_cell": "Table of Contents",
   "title_sidebar": "Contents",
   "toc_cell": false,
   "toc_position": {},
   "toc_section_display": true,
   "toc_window_display": false
  },
  "vscode": {
   "interpreter": {
    "hash": "31f2aee4e71d21fbe5cf8b01ff0e069b9275f58929596ceb00d14d90e3e16cd6"
   }
  }
 },
 "nbformat": 4,
 "nbformat_minor": 5
}
