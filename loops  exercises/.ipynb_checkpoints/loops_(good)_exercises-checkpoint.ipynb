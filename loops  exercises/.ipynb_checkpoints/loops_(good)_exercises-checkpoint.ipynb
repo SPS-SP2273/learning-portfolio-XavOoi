{
 "cells": [
  {
   "attachments": {},
   "cell_type": "markdown",
   "id": "123456",
   "metadata": {},
   "source": [
    "<div style=\"text-align:left;font-size:2em\"><span style=\"font-weight:bolder;font-size:1.25em\">SP2273 | Learning Portfolio</span><br><br><span style=\"font-weight:bold;color:darkred\">Loops (Good) Exercises</span></div>"
   ]
  },
  {
   "cell_type": "markdown",
   "id": "55d10032-04a8-4dbe-9aaf-4d1c33667659",
   "metadata": {},
   "source": [
    "## **Exercise 1**"
   ]
  },
  {
   "cell_type": "code",
   "execution_count": 2,
   "id": "628be23d-1878-42e4-a243-7670c8fe9761",
   "metadata": {},
   "outputs": [
    {
     "name": "stdout",
     "output_type": "stream",
     "text": [
      "[1, 9, 25, 49, 81]\n"
     ]
    }
   ],
   "source": [
    "squares_of_odd_integers = []\n",
    "\n",
    "for integer in range(10):\n",
    "    if integer % 2 == 0:\n",
    "        continue\n",
    "    \n",
    "    square = integer**2\n",
    "    squares_of_odd_integers.append(square)\n",
    "\n",
    "print(squares_of_odd_integers)"
   ]
  },
  {
   "cell_type": "code",
   "execution_count": 4,
   "id": "a86b311e-408c-44a4-8176-8b1b811a263b",
   "metadata": {},
   "outputs": [
    {
     "name": "stdout",
     "output_type": "stream",
     "text": [
      "81\n"
     ]
    }
   ],
   "source": [
    "for integer in range(10):\n",
    "    if integer % 2 == 0:\n",
    "        continue\n",
    "    \n",
    "    square = integer**2\n",
    "print(square)"
   ]
  },
  {
   "cell_type": "markdown",
   "id": "febc1de1-2ffc-4fe7-b2ae-ea2206d0705a",
   "metadata": {},
   "source": [
    "## **Exercise 2**"
   ]
  },
  {
   "cell_type": "code",
   "execution_count": null,
   "id": "478d3c0f-bcba-4d73-877f-be1d06f9b107",
   "metadata": {},
   "outputs": [],
   "source": [
    "[integer for integer in range(10) if integer %2==0]"
   ]
  },
  {
   "cell_type": "markdown",
   "id": "cda7461f-f13f-4e44-9a33-4fec41889b97",
   "metadata": {},
   "source": [
    "## **Exercise 3**"
   ]
  },
  {
   "cell_type": "code",
   "execution_count": null,
   "id": "fc4dfd98-e46d-4f92-be32-6df0079743fa",
   "metadata": {},
   "outputs": [],
   "source": []
  },
  {
   "cell_type": "markdown",
   "id": "baed09d9-dd8b-433d-abd6-49b58b9d111b",
   "metadata": {},
   "source": [
    "## **Exercise 4**"
   ]
  },
  {
   "cell_type": "code",
   "execution_count": null,
   "id": "ffd48a32-bb9b-4e50-af20-a5f88d09fddc",
   "metadata": {},
   "outputs": [],
   "source": []
  },
  {
   "cell_type": "markdown",
   "id": "b076d4a6-ece4-4a71-bf19-b3a4a5fc9b79",
   "metadata": {},
   "source": [
    "## **Exercise 5**"
   ]
  },
  {
   "cell_type": "code",
   "execution_count": null,
   "id": "d5269cb8-4bd8-495b-93e9-213480cb638f",
   "metadata": {},
   "outputs": [],
   "source": []
  }
 ],
 "metadata": {
  "kernelspec": {
   "display_name": "Python 3 (ipykernel)",
   "language": "python",
   "name": "python3"
  },
  "language_info": {
   "codemirror_mode": {
    "name": "ipython",
    "version": 3
   },
   "file_extension": ".py",
   "mimetype": "text/x-python",
   "name": "python",
   "nbconvert_exporter": "python",
   "pygments_lexer": "ipython3",
   "version": "3.11.5"
  },
  "toc": {
   "base_numbering": 1,
   "nav_menu": {},
   "number_sections": true,
   "sideBar": true,
   "skip_h1_title": false,
   "title_cell": "Table of Contents",
   "title_sidebar": "Contents",
   "toc_cell": false,
   "toc_position": {},
   "toc_section_display": true,
   "toc_window_display": false
  },
  "vscode": {
   "interpreter": {
    "hash": "31f2aee4e71d21fbe5cf8b01ff0e069b9275f58929596ceb00d14d90e3e16cd6"
   }
  }
 },
 "nbformat": 4,
 "nbformat_minor": 5
}
