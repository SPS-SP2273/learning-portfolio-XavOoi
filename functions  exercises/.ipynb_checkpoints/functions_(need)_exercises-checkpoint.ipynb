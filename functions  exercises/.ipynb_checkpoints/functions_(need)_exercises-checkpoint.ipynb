{
 "cells": [
  {
   "attachments": {},
   "cell_type": "markdown",
   "id": "123456",
   "metadata": {},
   "source": [
    "<div style=\"text-align:left;font-size:2em\"><span style=\"font-weight:bolder;font-size:1.25em\">SP2273 | Learning Portfolio</span><br><br><span style=\"font-weight:bold;color:darkred\">Functions (Need) Exercises</span></div>"
   ]
  },
  {
   "cell_type": "markdown",
   "id": "bab1b1cd-4994-489c-a539-b9f77d8bfb4e",
   "metadata": {},
   "source": [
    "## **Exercise 1**"
   ]
  },
  {
   "cell_type": "code",
   "execution_count": 1,
   "id": "77b97d3a-7945-42d1-889f-91e92aa8e4c9",
   "metadata": {},
   "outputs": [],
   "source": [
    "def greeting(name):\n",
    "    if name == 'Batman':\n",
    "        return 'Hello Batman! So, nice to meet you!'\n",
    "    return f'Hello {name}!'"
   ]
  },
  {
   "cell_type": "markdown",
   "id": "8e038f3f-162c-4d84-89ad-84e09c921aae",
   "metadata": {},
   "source": [
    "Use of def defines greeting as a function and accepts a single arguement that is the name.\n",
    "\n",
    "If the arguement given is 'Batman' the function returns 'Hello Batman! So, nice to meet you!' --> And ignores the return f'Hello {name}!' at the bottom\n",
    "\n",
    "However, if the arguement is NOT 'Batman' the function does not return 'Hello Batman! So, nice to meet you!' since the condition is not met --> it proceeds to the return f'Hello {name}!' row and executes this code"
   ]
  },
  {
   "cell_type": "markdown",
   "id": "cf531943-b944-4951-913b-ed1a67260dd1",
   "metadata": {},
   "source": [
    "## **Exercise 2**"
   ]
  },
  {
   "cell_type": "code",
   "execution_count": 23,
   "id": "c1495893-60be-44d2-ac95-d2ed7a1ad498",
   "metadata": {},
   "outputs": [
    {
     "name": "stdin",
     "output_type": "stream",
     "text": [
      "What is the weight in kilograms? 50\n",
      "What is the height in metres? 1.8\n"
     ]
    },
    {
     "name": "stdout",
     "output_type": "stream",
     "text": [
      "The BMI category is underweight\n"
     ]
    }
   ],
   "source": [
    "weight = input('What is the weight in kilograms?') # user input for weight\n",
    "height = input('What is the height in metres?')    # user input for height\n",
    "weight = float(weight)                             # convert from strings to floats\n",
    "height = float(height)\n",
    "\n",
    "def calculate_BMI(weight, height): # defining calculate_BMI as a function\n",
    "    BMI = weight/(height**2)       # the formula to calculate BMI\n",
    "    if BMI <18.5:\n",
    "        return 'underweight'\n",
    "    if 18.5<= BMI <=24.9:\n",
    "        return 'normal weight'\n",
    "    if 25<= BMI <= 29.9:\n",
    "        return 'overweight'\n",
    "    if BMI >=30:\n",
    "        return 'obesity'\n",
    "\n",
    "calculate_BMI(weight, height)\n",
    "print(f'The BMI category is {calculate_BMI(weight, height)}')"
   ]
  }
 ],
 "metadata": {
  "kernelspec": {
   "display_name": "Python 3 (ipykernel)",
   "language": "python",
   "name": "python3"
  },
  "language_info": {
   "codemirror_mode": {
    "name": "ipython",
    "version": 3
   },
   "file_extension": ".py",
   "mimetype": "text/x-python",
   "name": "python",
   "nbconvert_exporter": "python",
   "pygments_lexer": "ipython3",
   "version": "3.11.5"
  },
  "toc": {
   "base_numbering": 1,
   "nav_menu": {},
   "number_sections": true,
   "sideBar": true,
   "skip_h1_title": false,
   "title_cell": "Table of Contents",
   "title_sidebar": "Contents",
   "toc_cell": false,
   "toc_position": {},
   "toc_section_display": true,
   "toc_window_display": false
  },
  "vscode": {
   "interpreter": {
    "hash": "31f2aee4e71d21fbe5cf8b01ff0e069b9275f58929596ceb00d14d90e3e16cd6"
   }
  }
 },
 "nbformat": 4,
 "nbformat_minor": 5
}
