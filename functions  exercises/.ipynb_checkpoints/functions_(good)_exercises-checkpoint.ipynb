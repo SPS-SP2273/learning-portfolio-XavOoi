{
 "cells": [
  {
   "attachments": {},
   "cell_type": "markdown",
   "id": "123456",
   "metadata": {},
   "source": [
    "<div style=\"text-align:left;font-size:2em\"><span style=\"font-weight:bolder;font-size:1.25em\">SP2273 | Learning Portfolio</span><br><br><span style=\"font-weight:bold;color:darkred\">Functions (Good) Exercises</span></div>"
   ]
  },
  {
   "cell_type": "markdown",
   "id": "5e65dd83-c3ee-47e2-8a8a-5606f5e98308",
   "metadata": {},
   "source": [
    "## **Exercise 1**"
   ]
  },
  {
   "cell_type": "code",
   "execution_count": 5,
   "id": "20a11168-8734-44fe-ae1f-0b01521fb2da",
   "metadata": {},
   "outputs": [
    {
     "name": "stdin",
     "output_type": "stream",
     "text": [
      "What is the temperature? 10\n",
      "What is the target scale? Kelvin\n"
     ]
    },
    {
     "data": {
      "text/plain": [
       "283.15"
      ]
     },
     "execution_count": 5,
     "metadata": {},
     "output_type": "execute_result"
    }
   ],
   "source": [
    "temperature_celsius = input('What is the temperature?')\n",
    "temperature_celsius = float(temperature_celsius)\n",
    "\n",
    "target_scale = input('What is the target scale?')\n",
    "\n",
    "def convert_celsius(temperature_celsius, target_scale='Fahrenheit'):\n",
    "    if target_scale == 'Kelvin':\n",
    "        temperature_kelvin = temperature_celsius + 273.15\n",
    "        return temperature_kelvin\n",
    "    else:\n",
    "        temperature_fahrenheit_default = (temperature_celsius * 9/5) + 32\n",
    "        return temperature_fahrenheit_default\n",
    "\n",
    "convert_celsius(temperature_celsius, target_scale)"
   ]
  },
  {
   "cell_type": "markdown",
   "id": "ac8d851b-7c0c-47c6-8594-6ccad32789bf",
   "metadata": {},
   "source": [
    "## **Exercise 2**"
   ]
  },
  {
   "cell_type": "code",
   "execution_count": 6,
   "id": "e2fb2b37-8e05-4d14-b8c4-0ac092c3c017",
   "metadata": {},
   "outputs": [
    {
     "name": "stdin",
     "output_type": "stream",
     "text": [
      "What is the temperature? 200\n",
      "What is the target scale? Kelvin\n"
     ]
    },
    {
     "data": {
      "text/plain": [
       "366.4833333333333"
      ]
     },
     "execution_count": 6,
     "metadata": {},
     "output_type": "execute_result"
    }
   ],
   "source": [
    "temperature_fahrenheit = input('What is the temperature?')\n",
    "temperature_fahrenheit = float(temperature_fahrenheit)\n",
    "\n",
    "target_scale = input('What is the target scale?')\n",
    "\n",
    "def convert_fahrenheit(temperature_fahrenheit, target_scale='Celsius'):\n",
    "    if target_scale == 'Kelvin':\n",
    "        temperature_kelvin = (temperature_fahrenheit - 32) * 5/9 + 273.15\n",
    "        return temperature_kelvin\n",
    "    else:\n",
    "        temperature_celsius_default = (temperature_fahrenheit - 32) * 5/9\n",
    "        return temperature_celsius_default\n",
    "\n",
    "convert_fahrenheit(temperature_fahrenheit, target_scale)"
   ]
  },
  {
   "cell_type": "markdown",
   "id": "7e3bacfa-cfad-468a-afc8-e45820c11f12",
   "metadata": {},
   "source": [
    "## **Exercise 3**"
   ]
  },
  {
   "cell_type": "code",
   "execution_count": 8,
   "id": "fe7af828-d312-4096-9c2c-addfc9ff4857",
   "metadata": {},
   "outputs": [
    {
     "name": "stdin",
     "output_type": "stream",
     "text": [
      "What is the temperature?  0\n",
      "What is the source scale? (Celsius, Fahrenheit, Kelvin)  Celsius\n",
      "What is the target scale? (Celsius, Fahrenheit, Kelvin)  Kelvin\n"
     ]
    },
    {
     "name": "stdout",
     "output_type": "stream",
     "text": [
      "The temperature in Kelvin is 273.15\n"
     ]
    }
   ],
   "source": [
    "def convert_temperature(temperature, source_scale, target_scale):\n",
    "    if source_scale == 'Celsius':\n",
    "        return convert_celsius(temperature, target_scale)\n",
    "    elif source_scale == 'Fahrenheit':\n",
    "        return convert_fahrenheit(temperature, target_scale)\n",
    "    elif source_scale == 'Kelvin':\n",
    "        if target_scale == 'Celsius':\n",
    "            return temperature - 273.15\n",
    "        elif target_scale == 'Fahrenheit':\n",
    "            return (temperature - 273.15) * 9/5 + 32\n",
    "        else:\n",
    "            return 'Invalid target scale'\n",
    "    else:\n",
    "        return 'Invalid source scale'\n",
    "\n",
    "# Example usage:\n",
    "temperature = float(input('What is the temperature? '))\n",
    "source_scale = input('What is the source scale? (Celsius, Fahrenheit, Kelvin) ')\n",
    "target_scale = input('What is the target scale? (Celsius, Fahrenheit, Kelvin) ')\n",
    "\n",
    "result = convert_temperature(temperature, source_scale, target_scale)\n",
    "print(f'The temperature in {target_scale} is {result}')"
   ]
  }
 ],
 "metadata": {
  "kernelspec": {
   "display_name": "Python 3 (ipykernel)",
   "language": "python",
   "name": "python3"
  },
  "language_info": {
   "codemirror_mode": {
    "name": "ipython",
    "version": 3
   },
   "file_extension": ".py",
   "mimetype": "text/x-python",
   "name": "python",
   "nbconvert_exporter": "python",
   "pygments_lexer": "ipython3",
   "version": "3.11.5"
  },
  "toc": {
   "base_numbering": 1,
   "nav_menu": {},
   "number_sections": true,
   "sideBar": true,
   "skip_h1_title": false,
   "title_cell": "Table of Contents",
   "title_sidebar": "Contents",
   "toc_cell": false,
   "toc_position": {},
   "toc_section_display": true,
   "toc_window_display": false
  },
  "vscode": {
   "interpreter": {
    "hash": "31f2aee4e71d21fbe5cf8b01ff0e069b9275f58929596ceb00d14d90e3e16cd6"
   }
  }
 },
 "nbformat": 4,
 "nbformat_minor": 5
}
