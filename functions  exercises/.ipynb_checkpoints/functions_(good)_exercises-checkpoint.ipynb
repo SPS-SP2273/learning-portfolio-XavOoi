{
 "cells": [
  {
   "attachments": {},
   "cell_type": "markdown",
   "id": "123456",
   "metadata": {},
   "source": [
    "<div style=\"text-align:left;font-size:2em\"><span style=\"font-weight:bolder;font-size:1.25em\">SP2273 | Learning Portfolio</span><br><br><span style=\"font-weight:bold;color:darkred\">Functions (Good) Exercises</span></div>"
   ]
  },
  {
   "cell_type": "markdown",
   "id": "5e65dd83-c3ee-47e2-8a8a-5606f5e98308",
   "metadata": {},
   "source": [
    "## **Exercise 1**"
   ]
  },
  {
   "cell_type": "code",
   "execution_count": 91,
   "id": "5945d288-56e8-49b6-bf63-ae9af61e0d6e",
   "metadata": {},
   "outputs": [
    {
     "name": "stdin",
     "output_type": "stream",
     "text": [
      "What is the temperature? 10\n",
      "What is the target scale? Kelvin\n"
     ]
    },
    {
     "data": {
      "text/plain": [
       "283.15"
      ]
     },
     "execution_count": 91,
     "metadata": {},
     "output_type": "execute_result"
    }
   ],
   "source": [
    "temperature_celsius = input('What is the temperature?')\n",
    "temperature_celsius = float(temperature_celsius)\n",
    "\n",
    "target_scale = input('What is the target scale?')\n",
    "\n",
    "def convert_celsius(temperature_celsius, target_scale='Fahrenheit'):\n",
    "    if target_scale == 'Kelvin':\n",
    "        temperature_kelvin = temperature_celsius + 273.15\n",
    "        return temperature_kelvin\n",
    "    elif target_scale == 'Fahrenheit':\n",
    "        temperature_fahrenheit = (temperature_celsius * 9/5) + 32\n",
    "        return temperature_fahrenheit\n",
    "    else:\n",
    "        temperature_fahrenheit_default = (temperature_celsius * 9/5) + 32\n",
    "        return temperature_fahrenheit_default\n",
    "\n",
    "convert_celsius(temperature_celsius, target_scale)"
   ]
  },
  {
   "cell_type": "markdown",
   "id": "ac8d851b-7c0c-47c6-8594-6ccad32789bf",
   "metadata": {},
   "source": [
    "## **Exercise 2**"
   ]
  },
  {
   "cell_type": "code",
   "execution_count": 94,
   "id": "e2fb2b37-8e05-4d14-b8c4-0ac092c3c017",
   "metadata": {},
   "outputs": [
    {
     "name": "stdin",
     "output_type": "stream",
     "text": [
      "What is the temperature? 200\n",
      "What is the target scale? Kelvin\n"
     ]
    },
    {
     "data": {
      "text/plain": [
       "366.4833333333333"
      ]
     },
     "execution_count": 94,
     "metadata": {},
     "output_type": "execute_result"
    }
   ],
   "source": [
    "temperature_fahrenheit = input('What is the temperature?')\n",
    "temperature_fahrenheit = float(temperature_fahrenheit)\n",
    "\n",
    "target_scale = input('What is the target scale?')\n",
    "\n",
    "def convert_fahrenheit(temperature_fahrenheit, target_scale='Celsius'):\n",
    "    if target_scale == 'Kelvin':\n",
    "        temperature_kelvin = (temperature_fahrenheit - 32) * 5/9 + 273.15\n",
    "        return temperature_kelvin\n",
    "    elif target_scale == 'Celsius':\n",
    "        temperature_celsius = (temperature_fahrenheit - 32) * 5/9\n",
    "        return temperature_celsius\n",
    "    else:\n",
    "        temperature_celsius_default = (temperature_fahrenheit - 32) * 5/9\n",
    "        return temperature_celsius_default\n",
    "\n",
    "convert_fahrenheit(temperature_fahrenheit, target_scale)"
   ]
  },
  {
   "cell_type": "markdown",
   "id": "7e3bacfa-cfad-468a-afc8-e45820c11f12",
   "metadata": {},
   "source": [
    "## **Exercise 3**"
   ]
  },
  {
   "cell_type": "code",
   "execution_count": 110,
   "id": "ad70b05a-4bae-4910-8dc3-612bd98da9a2",
   "metadata": {},
   "outputs": [
    {
     "name": "stdout",
     "output_type": "stream",
     "text": [
      "25 degrees Celsius is equal to 77.00 degrees Fahrenheit.\n"
     ]
    }
   ],
   "source": [
    "def convert_temperature(temperature, source_scale, target_scale):\n",
    "    if source_scale.lower() == 'celsius':\n",
    "        temperature_celsius = temperature\n",
    "    elif source_scale.lower() == 'fahrenheit':\n",
    "        temperature_celsius = (temperature - 32) * 5/9\n",
    "    elif source_scale.lower() == 'kelvin':\n",
    "        temperature_celsius = temperature - 273.15\n",
    "    else:\n",
    "        raise ValueError(\"Invalid source_scale. Supported values: 'Celsius', 'Fahrenheit', or 'Kelvin'\")\n",
    "    \n",
    "    # Convert Celsius to the target scale\n",
    "    if target_scale.lower() == 'kelvin':\n",
    "        temperature_result = convert_celsius(temperature_celsius, 'Kelvin')\n",
    "    elif target_scale.lower() == 'fahrenheit':\n",
    "        temperature_result = convert_celsius(temperature_celsius, 'Fahrenheit')\n",
    "    elif target_scale.lower() == 'celsius':\n",
    "        temperature_result = temperature_celsius\n",
    "    else:\n",
    "        raise ValueError(\"Invalid target_scale. Supported values: 'Celsius', 'Fahrenheit', or 'Kelvin'\")\n",
    "    \n",
    "    return temperature_result\n",
    "\n",
    "# Example usage:\n",
    "temperature_input = 25  # Replace with your input temperature\n",
    "source_scale_input = 'Celsius'  # Replace with 'Celsius', 'Fahrenheit', or 'Kelvin'\n",
    "target_scale_output = 'Fahrenheit'  # Replace with 'Celsius', 'Fahrenheit', or 'Kelvin'\n",
    "\n",
    "temperature_result = convert_temperature(temperature_input, source_scale_input, target_scale_output)\n",
    "print(f\"{temperature_input} degrees {source_scale_input} is equal to {temperature_result:.2f} degrees {target_scale_output}.\")"
   ]
  }
 ],
 "metadata": {
  "kernelspec": {
   "display_name": "Python 3 (ipykernel)",
   "language": "python",
   "name": "python3"
  },
  "language_info": {
   "codemirror_mode": {
    "name": "ipython",
    "version": 3
   },
   "file_extension": ".py",
   "mimetype": "text/x-python",
   "name": "python",
   "nbconvert_exporter": "python",
   "pygments_lexer": "ipython3",
   "version": "3.11.5"
  },
  "toc": {
   "base_numbering": 1,
   "nav_menu": {},
   "number_sections": true,
   "sideBar": true,
   "skip_h1_title": false,
   "title_cell": "Table of Contents",
   "title_sidebar": "Contents",
   "toc_cell": false,
   "toc_position": {},
   "toc_section_display": true,
   "toc_window_display": false
  },
  "vscode": {
   "interpreter": {
    "hash": "31f2aee4e71d21fbe5cf8b01ff0e069b9275f58929596ceb00d14d90e3e16cd6"
   }
  }
 },
 "nbformat": 4,
 "nbformat_minor": 5
}
