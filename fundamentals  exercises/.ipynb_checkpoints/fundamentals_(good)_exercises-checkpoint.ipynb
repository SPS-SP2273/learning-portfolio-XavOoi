{
 "cells": [
  {
   "cell_type": "markdown",
   "id": "123456",
   "metadata": {},
   "source": [
    "<div style=\"text-align:left;font-size:2em\"><span style=\"font-weight:bolder;font-size:1.25em\">SP2273 | Learning Portfolio</span><br><br><span style=\"font-weight:bold;color:darkred\">Fundamentals (Good) Exercises</span></div>"
   ]
  },
  {
   "cell_type": "code",
   "execution_count": 1,
   "id": "c943dd32",
   "metadata": {},
   "outputs": [
    {
     "name": "stdout",
     "output_type": "stream",
     "text": [
      "Give me a number?50\n",
      "You entered 50\n"
     ]
    }
   ],
   "source": [
    "user_input = input('Give me a number?')\n",
    "print('You entered', user_input)"
   ]
  },
  {
   "cell_type": "markdown",
   "id": "04206764",
   "metadata": {},
   "source": [
    "Trying out the user_input feature"
   ]
  },
  {
   "cell_type": "code",
   "execution_count": 29,
   "id": "9d65b509",
   "metadata": {},
   "outputs": [
    {
     "name": "stdout",
     "output_type": "stream",
     "text": [
      "Give me a number?90\n",
      "You entered 90\n"
     ]
    },
    {
     "ename": "TypeError",
     "evalue": "'<=' not supported between instances of 'int' and 'str'",
     "output_type": "error",
     "traceback": [
      "\u001b[1;31m---------------------------------------------------------------------------\u001b[0m",
      "\u001b[1;31mTypeError\u001b[0m                                 Traceback (most recent call last)",
      "Cell \u001b[1;32mIn[29], line 3\u001b[0m\n\u001b[0;32m      1\u001b[0m user_input \u001b[38;5;241m=\u001b[39m \u001b[38;5;28minput\u001b[39m(\u001b[38;5;124m'\u001b[39m\u001b[38;5;124mGive me a number?\u001b[39m\u001b[38;5;124m'\u001b[39m)\n\u001b[0;32m      2\u001b[0m \u001b[38;5;28mprint\u001b[39m(\u001b[38;5;124m'\u001b[39m\u001b[38;5;124mYou entered\u001b[39m\u001b[38;5;124m'\u001b[39m, user_input)\n\u001b[1;32m----> 3\u001b[0m \u001b[38;5;28;01mif\u001b[39;00m \u001b[38;5;241;43m70\u001b[39;49m\u001b[38;5;241;43m<\u001b[39;49m\u001b[38;5;241;43m=\u001b[39;49m\u001b[43m \u001b[49m\u001b[43muser_input\u001b[49m\u001b[43m \u001b[49m\u001b[38;5;241;43m<\u001b[39;49m\u001b[38;5;241;43m=\u001b[39;49m\u001b[38;5;241;43m100\u001b[39;49m:\n\u001b[0;32m      4\u001b[0m     \u001b[38;5;28mprint\u001b[39m(\u001b[38;5;124m'\u001b[39m\u001b[38;5;124mA\u001b[39m\u001b[38;5;124m'\u001b[39m)\n\u001b[0;32m      6\u001b[0m \u001b[38;5;66;03m#the user_input given is a string while <= notations only can compare integers\u001b[39;00m\n\u001b[0;32m      7\u001b[0m \u001b[38;5;66;03m#have to convert the user_input from string to integers\u001b[39;00m\n",
      "\u001b[1;31mTypeError\u001b[0m: '<=' not supported between instances of 'int' and 'str'"
     ]
    }
   ],
   "source": [
    "user_input = input('Give me a number?')\n",
    "print('You entered', user_input)\n",
    "if 70<= user_input <=100:\n",
    "    print('A')"
   ]
  },
  {
   "cell_type": "markdown",
   "id": "e7ea1337",
   "metadata": {},
   "source": [
    "The user_input given is a string while <= notations only can compare integers or numbers hence have to convert the user_input from string to integers or numbers"
   ]
  },
  {
   "cell_type": "code",
   "execution_count": 30,
   "id": "a6be6c7c",
   "metadata": {},
   "outputs": [
    {
     "name": "stdout",
     "output_type": "stream",
     "text": [
      "Give me a number?88.8\n",
      "You entered 88.8\n"
     ]
    },
    {
     "ename": "ValueError",
     "evalue": "invalid literal for int() with base 10: '88.8'",
     "output_type": "error",
     "traceback": [
      "\u001b[1;31m---------------------------------------------------------------------------\u001b[0m",
      "\u001b[1;31mValueError\u001b[0m                                Traceback (most recent call last)",
      "Cell \u001b[1;32mIn[30], line 3\u001b[0m\n\u001b[0;32m      1\u001b[0m user_input \u001b[38;5;241m=\u001b[39m \u001b[38;5;28minput\u001b[39m(\u001b[38;5;124m'\u001b[39m\u001b[38;5;124mGive me a number?\u001b[39m\u001b[38;5;124m'\u001b[39m)\n\u001b[0;32m      2\u001b[0m \u001b[38;5;28mprint\u001b[39m(\u001b[38;5;124m'\u001b[39m\u001b[38;5;124mYou entered\u001b[39m\u001b[38;5;124m'\u001b[39m, user_input)\n\u001b[1;32m----> 3\u001b[0m user_input \u001b[38;5;241m=\u001b[39m \u001b[38;5;28;43mint\u001b[39;49m\u001b[43m(\u001b[49m\u001b[43muser_input\u001b[49m\u001b[43m)\u001b[49m\n\u001b[0;32m      4\u001b[0m \u001b[38;5;28;01mif\u001b[39;00m \u001b[38;5;241m70\u001b[39m\u001b[38;5;241m<\u001b[39m\u001b[38;5;241m=\u001b[39m user_input \u001b[38;5;241m<\u001b[39m\u001b[38;5;241m=\u001b[39m\u001b[38;5;241m100\u001b[39m:\n\u001b[0;32m      5\u001b[0m     \u001b[38;5;28mprint\u001b[39m(\u001b[38;5;124m'\u001b[39m\u001b[38;5;124mA\u001b[39m\u001b[38;5;124m'\u001b[39m)\n",
      "\u001b[1;31mValueError\u001b[0m: invalid literal for int() with base 10: '88.8'"
     ]
    }
   ],
   "source": [
    "user_input = input('Give me a number?')\n",
    "print('You entered', user_input)\n",
    "user_input = int(user_input)\n",
    "if 70<= user_input <=100:\n",
    "    print('A')"
   ]
  },
  {
   "cell_type": "markdown",
   "id": "0133410a",
   "metadata": {},
   "source": [
    "user_input converted from strings to integer; but have to consider non-integers such as scores with decimal places. Thus, have to change from int() to float() to accomodate the scores with decimal places."
   ]
  },
  {
   "cell_type": "code",
   "execution_count": 31,
   "id": "5f9d02c8",
   "metadata": {},
   "outputs": [
    {
     "name": "stdout",
     "output_type": "stream",
     "text": [
      "Give me a number?95.32\n",
      "You entered 95.32\n",
      "A\n"
     ]
    }
   ],
   "source": [
    "user_input = input('Give me a number?')\n",
    "print('You entered', user_input)\n",
    "user_input = float(user_input)\n",
    "if 70<= user_input <=100:\n",
    "    print('A')"
   ]
  },
  {
   "cell_type": "markdown",
   "id": "6ceaa76e",
   "metadata": {},
   "source": [
    "Now able to \n",
    "1) Obtain user_input \n",
    "2) Convert user_input into floating decimals \n",
    "3) Compare the input to see if its an A "
   ]
  },
  {
   "cell_type": "code",
   "execution_count": 34,
   "id": "47813d6f",
   "metadata": {},
   "outputs": [
    {
     "name": "stdout",
     "output_type": "stream",
     "text": [
      "Give me a number?58\n",
      "You entered 58\n",
      "B\n"
     ]
    }
   ],
   "source": [
    "user_input = input('Give me a number?')\n",
    "print('You entered', user_input)\n",
    "user_input = float(user_input)\n",
    "if 70<= user_input <=100:\n",
    "    print('A')\n",
    "elif 50 <= user_input <69:\n",
    "    print('B')"
   ]
  },
  {
   "cell_type": "markdown",
   "id": "ff4d7840",
   "metadata": {},
   "source": [
    "Now able to \n",
    "1) Obtain user_input \n",
    "2) Convert user_input into floating decimals \n",
    "3) Compare the input to see if its an A \n",
    "4) Able to run for grade B"
   ]
  },
  {
   "cell_type": "code",
   "execution_count": 44,
   "id": "5913ed18",
   "metadata": {},
   "outputs": [
    {
     "name": "stdout",
     "output_type": "stream",
     "text": [
      "Give me a number?4509\n",
      "You entered 4509\n",
      "Out of Score Range, please enter a score between 0 and 100\n"
     ]
    }
   ],
   "source": [
    "user_input = input('Give me a number?')\n",
    "print('You entered', user_input)\n",
    "user_input = float(user_input)\n",
    "if user_input >100 or user_input <0:\n",
    "    print('Out of Score Range, please enter a score between 0 and 100')\n",
    "elif 70<= user_input <=100:\n",
    "    print('A')\n",
    "elif 50 <= user_input <69:\n",
    "    print('B')\n",
    "elif 35 <= user_input <49:\n",
    "    print('C')\n",
    "elif 0 <= user_input <34:\n",
    "    print('Fail')"
   ]
  },
  {
   "cell_type": "markdown",
   "id": "cf0b7035",
   "metadata": {},
   "source": [
    "Now able to \n",
    "1) Obtain user_input \n",
    "2) Convert user_input into floating decimals \n",
    "3) Compare the input to see if its an A \n",
    "4) Able to run for grade B\n",
    "5) Able to run for all the grades and included error message for scores outside the range"
   ]
  },
  {
   "cell_type": "code",
   "execution_count": 43,
   "id": "45965537",
   "metadata": {},
   "outputs": [
    {
     "name": "stdout",
     "output_type": "stream",
     "text": [
      "What is the student's score?45\n",
      "The student's score is 45\n",
      "The student's letter grade is: C\n"
     ]
    }
   ],
   "source": [
    "user_input = input('What is the student\\'s score?')\n",
    "print('The student\\'s score is', user_input)\n",
    "user_input = float(user_input)\n",
    "if user_input >100 or user_input <0:\n",
    "    print('Out of Score Range, please enter a score between 0 and 100')\n",
    "elif 70<= user_input <=100:\n",
    "    print('The student\\'s letter grade is: A')\n",
    "elif 50 <= user_input <=69:\n",
    "    print('The student\\'s letter grade is: B')\n",
    "elif 35 <= user_input <=49:\n",
    "    print('The student\\'s letter grade is: C')\n",
    "elif 0 <= user_input <=34:\n",
    "    print('The student\\'s letter grade is: Fail')"
   ]
  },
  {
   "cell_type": "markdown",
   "id": "a741b5dd",
   "metadata": {},
   "source": [
    "Now able to \n",
    "1) Obtain user_input \n",
    "2) Convert user_input into floating decimals \n",
    "3) Compare the input to see if its an A \n",
    "4) Able to run for grade B\n",
    "5) Able to run for all the grades and included error message for scores outside the range\n",
    "6) Refine the output wording"
   ]
  },
  {
   "cell_type": "markdown",
   "id": "e1e44462",
   "metadata": {},
   "source": [
    "Additional notes from doing this exercise:\n",
    "1) The inequality signs are important; for example in the 4th line of the code\n",
    "    **if user_input >=100 or user_input <=0** is used entering scores 100 and 0 will lead to error messages\n",
    "2) Cannot compare strings and numbers directly have to convert\n"
   ]
  },
  {
   "cell_type": "markdown",
   "id": "364573ca",
   "metadata": {},
   "source": [
    "## Final Code\n",
    "With examples for each grade and one for scores that are out of range"
   ]
  },
  {
   "cell_type": "code",
   "execution_count": 45,
   "id": "86754bea",
   "metadata": {},
   "outputs": [
    {
     "name": "stdout",
     "output_type": "stream",
     "text": [
      "What is the student's score?100\n",
      "The student's score is 100\n",
      "The student's letter grade is: A\n"
     ]
    }
   ],
   "source": [
    "user_input = input('What is the student\\'s score?')\n",
    "print('The student\\'s score is', user_input)\n",
    "user_input = float(user_input)\n",
    "if user_input >100 or user_input <0:\n",
    "    print('Out of Score Range, please enter a score between 0 and 100')\n",
    "elif 70<= user_input <=100:\n",
    "    print('The student\\'s letter grade is: A')\n",
    "elif 50 <= user_input <=69:\n",
    "    print('The student\\'s letter grade is: B')\n",
    "elif 35 <= user_input <=49:\n",
    "    print('The student\\'s letter grade is: C')\n",
    "elif 0 <= user_input <=34:\n",
    "    print('The student\\'s letter grade is: Fail')"
   ]
  },
  {
   "cell_type": "code",
   "execution_count": 46,
   "id": "6e2773d3",
   "metadata": {},
   "outputs": [
    {
     "name": "stdout",
     "output_type": "stream",
     "text": [
      "What is the student's score?65\n",
      "The student's score is 65\n",
      "The student's letter grade is: B\n"
     ]
    }
   ],
   "source": [
    "user_input = input('What is the student\\'s score?')\n",
    "print('The student\\'s score is', user_input)\n",
    "user_input = float(user_input)\n",
    "if user_input >100 or user_input <0:\n",
    "    print('Out of Score Range, please enter a score between 0 and 100')\n",
    "elif 70<= user_input <=100:\n",
    "    print('The student\\'s letter grade is: A')\n",
    "elif 50 <= user_input <=69:\n",
    "    print('The student\\'s letter grade is: B')\n",
    "elif 35 <= user_input <=49:\n",
    "    print('The student\\'s letter grade is: C')\n",
    "elif 0 <= user_input <=34:\n",
    "    print('The student\\'s letter grade is: Fail')"
   ]
  },
  {
   "cell_type": "code",
   "execution_count": 47,
   "id": "53cb8ef7",
   "metadata": {},
   "outputs": [
    {
     "name": "stdout",
     "output_type": "stream",
     "text": [
      "What is the student's score?40\n",
      "The student's score is 40\n",
      "The student's letter grade is: C\n"
     ]
    }
   ],
   "source": [
    "user_input = input('What is the student\\'s score?')\n",
    "print('The student\\'s score is', user_input)\n",
    "user_input = float(user_input)\n",
    "if user_input >100 or user_input <0:\n",
    "    print('Out of Score Range, please enter a score between 0 and 100')\n",
    "elif 70<= user_input <=100:\n",
    "    print('The student\\'s letter grade is: A')\n",
    "elif 50 <= user_input <=69:\n",
    "    print('The student\\'s letter grade is: B')\n",
    "elif 35 <= user_input <=49:\n",
    "    print('The student\\'s letter grade is: C')\n",
    "elif 0 <= user_input <=34:\n",
    "    print('The student\\'s letter grade is: Fail')"
   ]
  },
  {
   "cell_type": "code",
   "execution_count": 48,
   "id": "3e35ca2d",
   "metadata": {},
   "outputs": [
    {
     "name": "stdout",
     "output_type": "stream",
     "text": [
      "What is the student's score?5\n",
      "The student's score is 5\n",
      "The student's letter grade is: Fail\n"
     ]
    }
   ],
   "source": [
    "user_input = input('What is the student\\'s score?')\n",
    "print('The student\\'s score is', user_input)\n",
    "user_input = float(user_input)\n",
    "if user_input >100 or user_input <0:\n",
    "    print('Out of Score Range, please enter a score between 0 and 100')\n",
    "elif 70<= user_input <=100:\n",
    "    print('The student\\'s letter grade is: A')\n",
    "elif 50 <= user_input <=69:\n",
    "    print('The student\\'s letter grade is: B')\n",
    "elif 35 <= user_input <=49:\n",
    "    print('The student\\'s letter grade is: C')\n",
    "elif 0 <= user_input <=34:\n",
    "    print('The student\\'s letter grade is: Fail')"
   ]
  },
  {
   "cell_type": "code",
   "execution_count": 49,
   "id": "db8f98b0",
   "metadata": {},
   "outputs": [
    {
     "name": "stdout",
     "output_type": "stream",
     "text": [
      "What is the student's score?3837\n",
      "The student's score is 3837\n",
      "Out of Score Range, please enter a score between 0 and 100\n"
     ]
    }
   ],
   "source": [
    "user_input = input('What is the student\\'s score?')\n",
    "print('The student\\'s score is', user_input)\n",
    "user_input = float(user_input)\n",
    "if user_input >100 or user_input <0:\n",
    "    print('Out of Score Range, please enter a score between 0 and 100')\n",
    "elif 70<= user_input <=100:\n",
    "    print('The student\\'s letter grade is: A')\n",
    "elif 50 <= user_input <=69:\n",
    "    print('The student\\'s letter grade is: B')\n",
    "elif 35 <= user_input <=49:\n",
    "    print('The student\\'s letter grade is: C')\n",
    "elif 0 <= user_input <=34:\n",
    "    print('The student\\'s letter grade is: Fail')"
   ]
  }
 ],
 "metadata": {
  "kernelspec": {
   "display_name": "Python 3 (ipykernel)",
   "language": "python",
   "name": "python3"
  },
  "language_info": {
   "codemirror_mode": {
    "name": "ipython",
    "version": 3
   },
   "file_extension": ".py",
   "mimetype": "text/x-python",
   "name": "python",
   "nbconvert_exporter": "python",
   "pygments_lexer": "ipython3",
   "version": "3.11.5"
  },
  "toc": {
   "base_numbering": 1,
   "nav_menu": {},
   "number_sections": true,
   "sideBar": true,
   "skip_h1_title": false,
   "title_cell": "Table of Contents",
   "title_sidebar": "Contents",
   "toc_cell": false,
   "toc_position": {},
   "toc_section_display": true,
   "toc_window_display": false
  },
  "vscode": {
   "interpreter": {
    "hash": "31f2aee4e71d21fbe5cf8b01ff0e069b9275f58929596ceb00d14d90e3e16cd6"
   }
  }
 },
 "nbformat": 4,
 "nbformat_minor": 5
}
