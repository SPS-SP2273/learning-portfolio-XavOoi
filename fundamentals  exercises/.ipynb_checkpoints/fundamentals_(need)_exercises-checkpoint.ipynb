{
 "cells": [
  {
   "cell_type": "markdown",
   "id": "123456",
   "metadata": {},
   "source": [
    "<div style=\"text-align:left;font-size:2em\"><span style=\"font-weight:bolder;font-size:1.25em\">SP2273 | Learning Portfolio</span><br><br><span style=\"font-weight:bold;color:darkred\">Fundamentals (Need) Exercises</span></div>"
   ]
  },
  {
   "cell_type": "markdown",
   "id": "832b616b-f225-4906-94cb-9e53c0f7f2d1",
   "metadata": {},
   "source": [
    "**Exercise 1**"
   ]
  },
  {
   "cell_type": "markdown",
   "id": "f6c090cd",
   "metadata": {},
   "source": [
    "- function: e.g., print () is a function\n",
    "- argument: Is what is placed inside the () of a function\n",
    "- Python is case sensitive\n",
    "- Packages: Additional features that can be imported into python for more functionality\n",
    "- Comments: Can be added with the use of '#' in the code cells for additional notes\n",
    "- [ ]: used for lists\n",
    "- indentation: used in\n",
    "- *= is not the same as ==; = is used to set something or to define something while == is to ask the program if it is true*\n",
    "- *(): used in mathematics*\n",
    "- *{}: used for dictionary*\n",
    "- *dot: used to signify ownership*\n"
   ]
  },
  {
   "cell_type": "code",
   "execution_count": null,
   "id": "2a4ef4cf-c3b0-40ef-84f6-070fa084f85a",
   "metadata": {},
   "outputs": [],
   "source": []
  },
  {
   "cell_type": "markdown",
   "id": "3d2c119c-c5d7-469a-b769-9005261335fb",
   "metadata": {},
   "source": [
    "**Exercise 2**"
   ]
  },
  {
   "cell_type": "code",
   "execution_count": 98,
   "id": "066dcedf-c373-4faa-862f-4310be9ee598",
   "metadata": {},
   "outputs": [],
   "source": [
    "import math"
   ]
  },
  {
   "cell_type": "code",
   "execution_count": 2,
   "id": "b512863d-42d8-406d-9515-048a35f973d0",
   "metadata": {},
   "outputs": [
    {
     "ename": "IndentationError",
     "evalue": "unindent does not match any outer indentation level (<tokenize>, line 3)",
     "output_type": "error",
     "traceback": [
      "\u001b[1;36m  File \u001b[1;32m<tokenize>:3\u001b[1;36m\u001b[0m\n\u001b[1;33m    Print(x, y, z)\u001b[0m\n\u001b[1;37m    ^\u001b[0m\n\u001b[1;31mIndentationError\u001b[0m\u001b[1;31m:\u001b[0m unindent does not match any outer indentation level\n"
     ]
    }
   ],
   "source": [
    "x, y = 3, 4\n",
    "        z = sqrt(x*2 + y**2)\n",
    "    Print(x, y, z)"
   ]
  },
  {
   "cell_type": "code",
   "execution_count": 99,
   "id": "e94efd28-26b3-4d57-89c3-1a16d52936ae",
   "metadata": {},
   "outputs": [
    {
     "name": "stdout",
     "output_type": "stream",
     "text": [
      "3 4 5.0\n"
     ]
    }
   ],
   "source": [
    "x, y = 3, 4\n",
    "z = math.sqrt (x**2 + y**2) # double * is to the power of while single * is multiply\n",
    "print(x, y, z)"
   ]
  },
  {
   "cell_type": "markdown",
   "id": "d0e1f85d",
   "metadata": {},
   "source": [
    "**Exercise 3**"
   ]
  },
  {
   "cell_type": "markdown",
   "id": "9a3f2596",
   "metadata": {},
   "source": [
    "| **Number** | **Term** | **Description** |\n",
    "|:-----|:-------|:--------|\n",
    "|1\t|Function\t|It does something e.g., print (x) will give the answer x where print is a function|\n",
    "|2\t|Arguments\t|what we tell the function to execute and it is entered into () |\n",
    "|3\t|Comments\t|Little notes we add to our code to remind us what it is about, but is not run or executed by python| \n",
    "|4\t|Indentations|\tLike an space that is required for python to process the code, it is part of the code|\n",
    "|5\t|Packages\t|Additional features that can be added to python for more functionality|\n",
    "|6\t|.\t|Indicates ownership|\n",
    "|7\t|:\t|used to indicate as a block of code\n",
    "|8\t|[]\t|Creates list|\n",
    "|9\t|[[[]]]\t|Nesting of lists|\n",
    "|10\t|{}|To store the information in a dictionary|\n"
   ]
  },
  {
   "cell_type": "markdown",
   "id": "ba44d7dd",
   "metadata": {},
   "source": [
    "**Exercise 4**"
   ]
  },
  {
   "cell_type": "markdown",
   "id": "b3a23c9b",
   "metadata": {},
   "source": [
    "Exercise 4 part 1"
   ]
  },
  {
   "cell_type": "code",
   "execution_count": 45,
   "id": "9deb5bf4",
   "metadata": {},
   "outputs": [
    {
     "data": {
      "text/plain": [
       "2.5"
      ]
     },
     "execution_count": 45,
     "metadata": {},
     "output_type": "execute_result"
    }
   ],
   "source": [
    "5/2    # / is used simply as a division line; i.e. 5 divide by 2 = 2.5"
   ]
  },
  {
   "cell_type": "markdown",
   "id": "00c5bf02",
   "metadata": {},
   "source": [
    "Exercise 4 part 2"
   ]
  },
  {
   "cell_type": "code",
   "execution_count": 53,
   "id": "be3e990f",
   "metadata": {},
   "outputs": [
    {
     "data": {
      "text/plain": [
       "2"
      ]
     },
     "execution_count": 53,
     "metadata": {},
     "output_type": "execute_result"
    }
   ],
   "source": [
    "5//2  # // divides the number \n",
    "      # The answer is round down to the nearest whole number\n",
    "      # In this example: 5/2 = 2.5 and its round down to 2\n",
    "      # Refer to bottom cells for workings and tests"
   ]
  },
  {
   "cell_type": "code",
   "execution_count": 3,
   "id": "71da9a36",
   "metadata": {},
   "outputs": [
    {
     "data": {
      "text/plain": [
       "(8.571428571428571, 8.777777777777779, 8, 8)"
      ]
     },
     "execution_count": 3,
     "metadata": {},
     "output_type": "execute_result"
    }
   ],
   "source": [
    "60/7, 79/9, 60//7, 79//9"
   ]
  },
  {
   "cell_type": "markdown",
   "id": "3c12a272",
   "metadata": {},
   "source": [
    "Exercise 4 part 3"
   ]
  },
  {
   "cell_type": "code",
   "execution_count": 71,
   "id": "5ea91a12",
   "metadata": {},
   "outputs": [
    {
     "data": {
      "text/plain": [
       "1"
      ]
     },
     "execution_count": 71,
     "metadata": {},
     "output_type": "execute_result"
    }
   ],
   "source": [
    "5%2         # % divides the number but the output given is the remainder\n",
    "            # 5/2 = 2 TWOs + 1 there for the remainder is 1 = output is 1"
   ]
  }
 ],
 "metadata": {
  "kernelspec": {
   "display_name": "Python 3 (ipykernel)",
   "language": "python",
   "name": "python3"
  },
  "language_info": {
   "codemirror_mode": {
    "name": "ipython",
    "version": 3
   },
   "file_extension": ".py",
   "mimetype": "text/x-python",
   "name": "python",
   "nbconvert_exporter": "python",
   "pygments_lexer": "ipython3",
   "version": "3.11.5"
  },
  "toc": {
   "base_numbering": 1,
   "nav_menu": {},
   "number_sections": true,
   "sideBar": true,
   "skip_h1_title": false,
   "title_cell": "Table of Contents",
   "title_sidebar": "Contents",
   "toc_cell": false,
   "toc_position": {},
   "toc_section_display": true,
   "toc_window_display": false
  },
  "vscode": {
   "interpreter": {
    "hash": "31f2aee4e71d21fbe5cf8b01ff0e069b9275f58929596ceb00d14d90e3e16cd6"
   }
  }
 },
 "nbformat": 4,
 "nbformat_minor": 5
}
