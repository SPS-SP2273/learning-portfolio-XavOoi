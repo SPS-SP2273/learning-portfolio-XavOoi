{
 "cells": [
  {
   "attachments": {},
   "cell_type": "markdown",
   "id": "123456",
   "metadata": {},
   "source": [
    "<div style=\"text-align:left;font-size:2em\"><span style=\"font-weight:bolder;font-size:1.25em\">SP2273 | Learning Portfolio</span><br><br><span style=\"font-weight:bold;color:darkred\">Files, Folders & OS (Need) Exercises</span></div>"
   ]
  },
  {
   "cell_type": "markdown",
   "id": "21e573b1-98f2-472c-a1d6-763e1648120f",
   "metadata": {},
   "source": [
    "**Task 1**"
   ]
  },
  {
   "cell_type": "code",
   "execution_count": 1,
   "id": "e3856b4d-7d23-4858-a711-67e0ad5213a6",
   "metadata": {},
   "outputs": [],
   "source": [
    "import os\n",
    "import glob\n",
    "import shutil"
   ]
  },
  {
   "cell_type": "code",
   "execution_count": 3,
   "id": "fdc6881b-b34f-4bc7-b2ad-b43d79a41faa",
   "metadata": {},
   "outputs": [
    {
     "name": "stdout",
     "output_type": "stream",
     "text": [
      "10-08-singapore.txt\n"
     ]
    }
   ],
   "source": [
    "# Define the dictionary mapping month abbreviations to numerical format\n",
    "month_mapping = {\n",
    "    'jan': '01', 'feb': '02', 'mar': '03',\n",
    "    'apr': '04', 'may': '05', 'jun': '06',\n",
    "    'jul': '07', 'aug': '08', 'sep': '09',\n",
    "    'oct': '10', 'nov': '11', 'dec': '12'\n",
    "}\n",
    "\n",
    "# Original filename\n",
    "filename = 'oct-08_singapore.txt'\n",
    "\n",
    "# Split the filename into parts using '-' and '_'\n",
    "parts = filename.split('-')\n",
    "\n",
    "# Extract month, day, and city from the filename\n",
    "month = parts[0]\n",
    "day = parts[1].split('_')[0]  # Extract day part before '_'\n",
    "city = parts[1].split('_')[1].split('.')[0]  # Extract city part before '.'\n",
    "\n",
    "# Convert month abbreviation to numerical format\n",
    "month_numeric = month_mapping[month]\n",
    "\n",
    "# Create the new filename with the desired format\n",
    "new_filename = f\"{month_numeric}-{day}-{city}.txt\"\n",
    "\n",
    "# Print the new filename\n",
    "print(new_filename)\n"
   ]
  },
  {
   "cell_type": "markdown",
   "id": "448c7dea-cae1-4930-8cb4-086f7c54cd99",
   "metadata": {},
   "source": [
    "**Task 2**"
   ]
  },
  {
   "cell_type": "code",
   "execution_count": 8,
   "id": "26819f68-6783-47d1-b1db-b010bb01d7f9",
   "metadata": {},
   "outputs": [
    {
     "name": "stdout",
     "output_type": "stream",
     "text": [
      "10-08-singapore.txt\n"
     ]
    }
   ],
   "source": [
    "def rename_my_file(old_file_name):\n",
    "    # Define the dictionary mapping month abbreviations to numerical format\n",
    "    month_mapping = {\n",
    "        'jan': '01', 'feb': '02', 'mar': '03',\n",
    "        'apr': '04', 'may': '05', 'jun': '06',\n",
    "        'jul': '07', 'aug': '08', 'sep': '09',\n",
    "        'oct': '10', 'nov': '11', 'dec': '12'\n",
    "    }\n",
    "\n",
    "    # Split the filename into parts using '-' and '_'\n",
    "    parts = old_file_name.split('-')\n",
    "\n",
    "    # Extract month, day, and city from the filename\n",
    "    month = parts[0]\n",
    "    day = parts[1].split('_')[0]  # Extract day part before '_'\n",
    "    city = parts[1].split('_')[1].split('.')[0]  # Extract city part before '.'\n",
    "\n",
    "    # Convert month abbreviation to numerical format\n",
    "    month_numeric = month_mapping[month]\n",
    "\n",
    "    # Create the new filename with the desired format\n",
    "    new_filename = f\"{month_numeric}-{day}-{city}.txt\"\n",
    "\n",
    "    return new_filename\n",
    "\n",
    "# Test the function\n",
    "old_file_name = 'oct-08_singapore.txt'\n",
    "new_file_name = rename_my_file(old_file_name)\n",
    "print(new_file_name)\n"
   ]
  },
  {
   "cell_type": "code",
   "execution_count": null,
   "id": "c42c3d7d-9d14-4653-9da8-e0edc2d7f790",
   "metadata": {},
   "outputs": [],
   "source": []
  },
  {
   "cell_type": "code",
   "execution_count": null,
   "id": "777eea1d-d6c7-4352-89cd-d2a74c6f0f22",
   "metadata": {},
   "outputs": [],
   "source": []
  },
  {
   "cell_type": "code",
   "execution_count": null,
   "id": "f3d72c4c-187c-411f-8fd0-628f416ca37b",
   "metadata": {},
   "outputs": [],
   "source": []
  },
  {
   "cell_type": "code",
   "execution_count": null,
   "id": "b0797f9e-854a-4fe2-8d92-b24744a5848f",
   "metadata": {},
   "outputs": [],
   "source": []
  },
  {
   "cell_type": "code",
   "execution_count": null,
   "id": "8eccbab0-3c94-4ff2-9754-aff5a53c1d4b",
   "metadata": {},
   "outputs": [],
   "source": []
  },
  {
   "cell_type": "code",
   "execution_count": null,
   "id": "848511da-c846-4667-b2d7-cd6a2f5cded3",
   "metadata": {},
   "outputs": [],
   "source": []
  }
 ],
 "metadata": {
  "kernelspec": {
   "display_name": "Python 3 (ipykernel)",
   "language": "python",
   "name": "python3"
  },
  "language_info": {
   "codemirror_mode": {
    "name": "ipython",
    "version": 3
   },
   "file_extension": ".py",
   "mimetype": "text/x-python",
   "name": "python",
   "nbconvert_exporter": "python",
   "pygments_lexer": "ipython3",
   "version": "3.11.5"
  },
  "toc": {
   "base_numbering": 1,
   "nav_menu": {},
   "number_sections": true,
   "sideBar": true,
   "skip_h1_title": false,
   "title_cell": "Table of Contents",
   "title_sidebar": "Contents",
   "toc_cell": false,
   "toc_position": {},
   "toc_section_display": true,
   "toc_window_display": false
  },
  "vscode": {
   "interpreter": {
    "hash": "31f2aee4e71d21fbe5cf8b01ff0e069b9275f58929596ceb00d14d90e3e16cd6"
   }
  }
 },
 "nbformat": 4,
 "nbformat_minor": 5
}
