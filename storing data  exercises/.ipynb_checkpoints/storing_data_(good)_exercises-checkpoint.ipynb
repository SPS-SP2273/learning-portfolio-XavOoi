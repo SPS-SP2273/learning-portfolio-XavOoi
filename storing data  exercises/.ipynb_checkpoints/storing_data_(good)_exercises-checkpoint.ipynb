{
 "cells": [
  {
   "attachments": {},
   "cell_type": "markdown",
   "id": "123456",
   "metadata": {},
   "source": [
    "<div style=\"text-align:left;font-size:2em\"><span style=\"font-weight:bolder;font-size:1.25em\">SP2273 | Learning Portfolio</span><br><br><span style=\"font-weight:bold;color:darkred\">Storing Data (Good) Exercises</span></div>"
   ]
  },
  {
   "cell_type": "markdown",
   "id": "dddfa2d5-9c56-4c60-8b5a-aba8988296f1",
   "metadata": {},
   "source": [
    "## Exercise 1"
   ]
  },
  {
   "cell_type": "markdown",
   "id": "76045456-3e96-4d16-9efe-bad7a5afc376",
   "metadata": {},
   "source": [
    "|**Term**| **Brief description**|\n",
    "|:---|:---|\n",
    "|Subsetting|To select something, e.g., to select an element from list or array|\n",
    "|Indexing|Select one element from list or array|\n",
    "|Slicing|Selecting multiple elements from the list or array|\n",
    "|Masking|*It is like a filter for array, to filter all the elements in an array by the condition set*|"
   ]
  },
  {
   "cell_type": "markdown",
   "id": "e8a168bb-5dda-4df6-9e07-293bd5500724",
   "metadata": {},
   "source": [
    "## Exercise 2"
   ]
  },
  {
   "cell_type": "code",
   "execution_count": 41,
   "id": "10cdada1-0f28-45ba-9007-dcfe2a8c03cf",
   "metadata": {},
   "outputs": [],
   "source": [
    "import numpy as np\n",
    "np_array_2d = np.array([[1, \"A\"], [3, \"C\"], [2, \"B\"], [4, \"D\"],\n",
    "                        [5, \"E\"], [7, \"G\"], [6, \"F\"], [8, \"H\"],\n",
    "                        [10, \"J\"], [9, \"I\"]])"
   ]
  },
  {
   "cell_type": "code",
   "execution_count": 44,
   "id": "af105f5e-b558-4e1c-812c-f5bac5b4b2db",
   "metadata": {},
   "outputs": [
    {
     "data": {
      "text/plain": [
       "array(['1', '3', '2', '4', '5', '7', '6', '8', '10', '9'], dtype='<U11')"
      ]
     },
     "execution_count": 44,
     "metadata": {},
     "output_type": "execute_result"
    }
   ],
   "source": [
    "np_array_2d[:, 0] # List first element of all the items in the array"
   ]
  },
  {
   "cell_type": "code",
   "execution_count": 46,
   "id": "0c024f68-d21c-4710-a31b-d5e5a246d01d",
   "metadata": {},
   "outputs": [
    {
     "data": {
      "text/plain": [
       "array([ 1,  3,  2,  4,  5,  7,  6,  8, 10,  9])"
      ]
     },
     "execution_count": 46,
     "metadata": {},
     "output_type": "execute_result"
    }
   ],
   "source": [
    "np_array_2d[:, 0].astype(int) # Convert those numbers to integers"
   ]
  },
  {
   "cell_type": "code",
   "execution_count": 48,
   "id": "76396fcf-4181-4dd2-8eb6-a5400f95da32",
   "metadata": {},
   "outputs": [
    {
     "data": {
      "text/plain": [
       "array([1, 1, 0, 0, 1, 1, 0, 0, 0, 1], dtype=int32)"
      ]
     },
     "execution_count": 48,
     "metadata": {},
     "output_type": "execute_result"
    }
   ],
   "source": [
    "np_array_2d[:, 0].astype(int)%2 # Obtain reminder after dividing all the numbers by 2\n"
   ]
  },
  {
   "cell_type": "code",
   "execution_count": 61,
   "id": "cde2e07a-c27a-4571-95f9-222b9331c37b",
   "metadata": {},
   "outputs": [
    {
     "data": {
      "text/plain": [
       "array([ True,  True, False, False,  True,  True, False, False, False,\n",
       "        True])"
      ]
     },
     "execution_count": 61,
     "metadata": {},
     "output_type": "execute_result"
    }
   ],
   "source": [
    "np_mask = np_array_2d[:, 0].astype(int)%2 > 0\n",
    "np_mask # creating a boolean mask which checks if the 1 and 0s which ones are >0 and gives\n",
    "        # true/false as a output"
   ]
  },
  {
   "cell_type": "code",
   "execution_count": 62,
   "id": "27baf90c-ae1c-4d9d-8f30-476be38f8f64",
   "metadata": {},
   "outputs": [
    {
     "data": {
      "text/plain": [
       "array(['A', 'C', 'E', 'G', 'I'], dtype='<U11')"
      ]
     },
     "execution_count": 62,
     "metadata": {},
     "output_type": "execute_result"
    }
   ],
   "source": [
    "np_array_2d[np_mask, 1] # extract the 2nd element(letters) based on the mask results"
   ]
  }
 ],
 "metadata": {
  "kernelspec": {
   "display_name": "Python 3 (ipykernel)",
   "language": "python",
   "name": "python3"
  },
  "language_info": {
   "codemirror_mode": {
    "name": "ipython",
    "version": 3
   },
   "file_extension": ".py",
   "mimetype": "text/x-python",
   "name": "python",
   "nbconvert_exporter": "python",
   "pygments_lexer": "ipython3",
   "version": "3.11.5"
  },
  "toc": {
   "base_numbering": 1,
   "nav_menu": {},
   "number_sections": true,
   "sideBar": true,
   "skip_h1_title": false,
   "title_cell": "Table of Contents",
   "title_sidebar": "Contents",
   "toc_cell": false,
   "toc_position": {},
   "toc_section_display": true,
   "toc_window_display": false
  },
  "vscode": {
   "interpreter": {
    "hash": "31f2aee4e71d21fbe5cf8b01ff0e069b9275f58929596ceb00d14d90e3e16cd6"
   }
  }
 },
 "nbformat": 4,
 "nbformat_minor": 5
}
