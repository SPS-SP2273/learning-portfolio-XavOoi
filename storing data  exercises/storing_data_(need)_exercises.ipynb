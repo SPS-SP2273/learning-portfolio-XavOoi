{
 "cells": [
  {
   "attachments": {},
   "cell_type": "markdown",
   "id": "123456",
   "metadata": {},
   "source": [
    "<div style=\"text-align:left;font-size:2em\"><span style=\"font-weight:bolder;font-size:1.25em\">SP2273 | Learning Portfolio</span><br><br><span style=\"font-weight:bold;color:darkred\">Storing Data (Need) Exercises</span></div>"
   ]
  },
  {
   "cell_type": "markdown",
   "id": "9e8a8cf6-2f1b-4a0a-852c-aaed58d8d96f",
   "metadata": {},
   "source": [
    "**Exercise 1**\n",
    "Two similarities between list and arrays\n",
    "1. Both can be used to store data\n",
    "2. Both can be used to do some mathematic calculations\n",
    "\n",
    "Two differences between list and arrays\n",
    "1. List do not allow adding a value to all its element while in arrays you can.\n",
    "- py_list + 10 does not work\n",
    "- np_array + 10 works and it adds 10 to all the elements in the array\n",
    "2. array can be used to find the mean, min, max and std while list cannot do that\n",
    "\n",
    "What is a dictionary?\n",
    "It allows storing of data, where a value is tied to a key. e.g., info = {\"red\": \"apple\", \"yellow\": \"pineapple\"} the word red and yellow are the keys and apple and pineapple are the values tied to each key respectively."
   ]
  },
  {
   "cell_type": "markdown",
   "id": "2556e63a-28c4-44ea-945b-70c95676a9bc",
   "metadata": {},
   "source": [
    "**Excercise 2**"
   ]
  },
  {
   "cell_type": "code",
   "execution_count": 12,
   "id": "715bd36f-5700-45e4-8e28-96b60d67a20f",
   "metadata": {},
   "outputs": [
    {
     "name": "stdout",
     "output_type": "stream",
     "text": [
      "a1\n",
      "c3\n",
      "e5\n",
      "g7\n",
      "i9\n"
     ]
    }
   ],
   "source": [
    "py_list = [\"a1\", \"b2\", \"c3\", \"d4\", \"e5\", \"f6\", \"g7\", \"h8\", \"i9\", \"j10\"]\n",
    "print(py_list[0])   # Prints 'a1'\n",
    "print(py_list[2])   # Prints 'c3'\n",
    "print(py_list[4])   # Prints 'e5'\n",
    "print(py_list[6])   # Prints 'g7'\n",
    "print(py_list[8])   # Prints 'i9'"
   ]
  },
  {
   "cell_type": "code",
   "execution_count": 17,
   "id": "c86ac4b9-260d-47da-bb1b-9db296be0e0b",
   "metadata": {},
   "outputs": [
    {
     "name": "stdout",
     "output_type": "stream",
     "text": [
      "['a1', 'c3', 'e5', 'g7', 'i9']\n"
     ]
    }
   ],
   "source": [
    "py_list = [\"a1\", \"b2\", \"c3\", \"d4\", \"e5\", \"f6\", \"g7\", \"h8\", \"i9\", \"j10\"]\n",
    "print(py_list[::2])  # use of slicing to access every other element starting from element index as 0"
   ]
  },
  {
   "cell_type": "markdown",
   "id": "646f2d24-21a4-4129-8b19-a7b2065dd8fc",
   "metadata": {},
   "source": [
    "**Exercise 3**"
   ]
  },
  {
   "cell_type": "code",
   "execution_count": 19,
   "id": "0f75e807-96f3-41f8-b8f1-f780be68cfdb",
   "metadata": {},
   "outputs": [
    {
     "name": "stdout",
     "output_type": "stream",
     "text": [
      "Boron\n",
      "Boron\n"
     ]
    }
   ],
   "source": [
    "elements = ['Hydrogen',\n",
    "            'Helium', 'Lithium',\n",
    "            'Beryllium', 'Boron', 'Carbon',\n",
    "            'Nitrogen', 'Oxygen',\n",
    "            'Fluorine',\n",
    "            'Neon']\n",
    "\n",
    "print(elements[4])\n",
    "print(elements[-6])"
   ]
  },
  {
   "cell_type": "markdown",
   "id": "4ded2e3d-fd76-4653-9526-ec4145861911",
   "metadata": {},
   "source": [
    "**Exercise 4**"
   ]
  },
  {
   "cell_type": "code",
   "execution_count": 26,
   "id": "584e4efa-44bd-49c0-95c0-05dbbc5f17c1",
   "metadata": {},
   "outputs": [
    {
     "data": {
      "text/plain": [
       "9"
      ]
     },
     "execution_count": 26,
     "metadata": {},
     "output_type": "execute_result"
    }
   ],
   "source": [
    "numbers=[45, 60, 1, 30, 96, 1, 96, 57, 16, 1,\n",
    "        99, 62, 86, 43, 42, 60, 59, 1, 1, 35,\n",
    "        83, 47, 34, 28, 68, 23, 22, 92, 1, 79,\n",
    "        1, 29, 94, 72, 46, 47, 1, 74, 32, 20,\n",
    "        8, 37, 35, 1, 89, 29, 86, 19, 43, 61]                 \n",
    "\n",
    "import numpy as np\n",
    "np_numbers = np.array(numbers)\n",
    "\n",
    "np_numbers == 1\n",
    "sum(np_numbers == 1)"
   ]
  }
 ],
 "metadata": {
  "kernelspec": {
   "display_name": "Python 3 (ipykernel)",
   "language": "python",
   "name": "python3"
  },
  "language_info": {
   "codemirror_mode": {
    "name": "ipython",
    "version": 3
   },
   "file_extension": ".py",
   "mimetype": "text/x-python",
   "name": "python",
   "nbconvert_exporter": "python",
   "pygments_lexer": "ipython3",
   "version": "3.11.5"
  },
  "toc": {
   "base_numbering": 1,
   "nav_menu": {},
   "number_sections": true,
   "sideBar": true,
   "skip_h1_title": false,
   "title_cell": "Table of Contents",
   "title_sidebar": "Contents",
   "toc_cell": false,
   "toc_position": {},
   "toc_section_display": true,
   "toc_window_display": false
  },
  "vscode": {
   "interpreter": {
    "hash": "31f2aee4e71d21fbe5cf8b01ff0e069b9275f58929596ceb00d14d90e3e16cd6"
   }
  }
 },
 "nbformat": 4,
 "nbformat_minor": 5
}
